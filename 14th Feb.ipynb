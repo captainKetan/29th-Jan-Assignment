{
 "cells": [
  {
   "cell_type": "markdown",
   "metadata": {},
   "source": [
    "# Answer 1"
   ]
  },
  {
   "cell_type": "markdown",
   "metadata": {},
   "source": [
    "**Multithreading in Python:**\n",
    "\n",
    "Multithreading is a programming concept where multiple threads (smaller units of a process) run concurrently within a single program. In Python, the `threading` module is used to implement multithreading. Each thread represents a separate flow of control, allowing multiple tasks to be performed simultaneously.\n",
    "\n",
    "**Why Multithreading is Used:**\n",
    "\n",
    "1. **Concurrency:** Multithreading allows concurrent execution of tasks. This is particularly useful for programs that need to perform multiple operations simultaneously.\n",
    "\n",
    "2. **Responsiveness:** Multithreading is often used in graphical user interfaces (GUIs) to keep the user interface responsive while performing background tasks.\n",
    "\n",
    "3. **Parallelism:** Although Python's Global Interpreter Lock (GIL) limits true parallelism in multi-core systems, multithreading can still be beneficial for certain types of tasks that involve I/O operations, such as reading and writing files or making network requests.\n",
    "\n",
    "4. **Resource Sharing:** Threads share the same memory space, making it easier for them to communicate and share data.\n",
    "\n",
    "**Module Used for Handling Threads in Python:**\n",
    "\n",
    "The `threading` module is used to handle threads in Python. It provides a convenient way to create, start, and manage threads. The `Thread` class in the `threading` module is used to create and work with threads.\n",
    "\n",
    "In below example, two threads (`thread1` and `thread2`) are created, each executing a different function concurrently. The `start()` method is used to initiate the execution of each thread, and the `join()` method is used to wait for both threads to complete before moving on."
   ]
  },
  {
   "cell_type": "code",
   "execution_count": 1,
   "metadata": {},
   "outputs": [
    {
     "name": "stdout",
     "output_type": "stream",
     "text": [
      "0\n",
      "1\n",
      "2\n",
      "3\n",
      "4\n",
      "A\n",
      "B\n",
      "C\n",
      "D\n",
      "E\n"
     ]
    }
   ],
   "source": [
    "import threading\n",
    "\n",
    "def print_numbers():\n",
    "    for i in range(5):\n",
    "        print(i)\n",
    "\n",
    "def print_letters():\n",
    "    for letter in 'ABCDE':\n",
    "        print(letter)\n",
    "\n",
    "# Create two threads\n",
    "thread1 = threading.Thread(target=print_numbers)\n",
    "thread2 = threading.Thread(target=print_letters)\n",
    "\n",
    "# Start the threads\n",
    "thread1.start()\n",
    "thread2.start()\n",
    "\n",
    "# Wait for both threads to finish\n",
    "thread1.join()\n",
    "thread2.join()"
   ]
  },
  {
   "cell_type": "markdown",
   "metadata": {},
   "source": []
  },
  {
   "cell_type": "markdown",
   "metadata": {},
   "source": [
    "# Answer 2"
   ]
  },
  {
   "cell_type": "markdown",
   "metadata": {},
   "source": [
    "The `threading` module in Python is used for creating and working with threads. It provides a higher-level interface to threads than the lower-level `thread` module. The `threading` module allows we to create and manage threads easily, and it provides various functions and classes for effective multithreading.\n",
    "\n",
    "1. **`activeCount()` Function:**\n",
    "   - **Use:**\n",
    "     - The `activeCount()` function is used to get the number of Thread objects currently alive.\n",
    "   - **Example:**\n",
    "     In below example, `activeCount()` is used to determine the number of active threads. It's not limited to counting threads created with the `threading` module; it counts all currently alive threads."
   ]
  },
  {
   "cell_type": "code",
   "execution_count": 2,
   "metadata": {},
   "outputs": [
    {
     "name": "stdout",
     "output_type": "stream",
     "text": [
      "Thread FunctionActive Threads: 7\n",
      "\n"
     ]
    },
    {
     "name": "stderr",
     "output_type": "stream",
     "text": [
      "C:\\Users\\Ketan\\AppData\\Local\\Temp\\ipykernel_1164\\3847740710.py:11: DeprecationWarning: activeCount() is deprecated, use active_count() instead\n",
      "  active_threads = threading.activeCount()\n"
     ]
    }
   ],
   "source": [
    "import threading\n",
    "\n",
    "def my_function():\n",
    "    print(\"Thread Function\")\n",
    "\n",
    "# Create and start a thread\n",
    "my_thread = threading.Thread(target=my_function)\n",
    "my_thread.start()\n",
    "\n",
    "# Get the number of active threads\n",
    "active_threads = threading.activeCount()\n",
    "print(\"Active Threads:\", active_threads)"
   ]
  },
  {
   "cell_type": "markdown",
   "metadata": {},
   "source": [
    "2. **`currentThread()` Function:**\n",
    "   - **Use:**\n",
    "     - The `currentThread()` function returns the current Thread object corresponding to the caller's thread of control.\n",
    "     \n",
    "     In below example, `currentThread()` is used to obtain the current thread object and print its name."
   ]
  },
  {
   "cell_type": "code",
   "execution_count": 3,
   "metadata": {},
   "outputs": [
    {
     "name": "stderr",
     "output_type": "stream",
     "text": [
      "C:\\Users\\Ketan\\AppData\\Local\\Temp\\ipykernel_1164\\122733033.py:4: DeprecationWarning: currentThread() is deprecated, use current_thread() instead\n",
      "  current_thread = threading.currentThread()\n"
     ]
    },
    {
     "name": "stdout",
     "output_type": "stream",
     "text": [
      "Current Thread: Thread-8 (print_current_thread)\n"
     ]
    }
   ],
   "source": [
    "import threading\n",
    "\n",
    "def print_current_thread():\n",
    "    current_thread = threading.currentThread()\n",
    "    print(\"Current Thread:\", current_thread.name)\n",
    "\n",
    "# Create and start a thread\n",
    "my_thread = threading.Thread(target=print_current_thread)\n",
    "my_thread.start()"
   ]
  },
  {
   "cell_type": "markdown",
   "metadata": {},
   "source": [
    "3. **`enumerate()` Function:**\n",
    "   - **Use:**\n",
    "     - The `enumerate()` function returns a list of all currently alive Thread objects.\n",
    "   - **Example:**\n",
    "     In below example, `enumerate()` is used to get a list of all currently active threads, including the threads created explicitly in the code."
   ]
  },
  {
   "cell_type": "code",
   "execution_count": 4,
   "metadata": {},
   "outputs": [
    {
     "name": "stdout",
     "output_type": "stream",
     "text": [
      "Thread Function\n",
      "Thread Function\n",
      "Active Threads: [<_MainThread(MainThread, started 3448)>, <Thread(IOPub, started daemon 14496)>, <Heartbeat(Heartbeat, started daemon 8060)>, <ControlThread(Control, started daemon 2392)>, <HistorySavingThread(IPythonHistorySavingThread, started 9224)>, <ParentPollerWindows(Thread-4, started daemon 9476)>]\n"
     ]
    }
   ],
   "source": [
    "import threading\n",
    "\n",
    "def my_function():\n",
    "    print(\"Thread Function\")\n",
    "\n",
    "# Create and start two threads\n",
    "thread1 = threading.Thread(target=my_function)\n",
    "thread2 = threading.Thread(target=my_function)\n",
    "thread1.start()\n",
    "thread2.start()\n",
    "\n",
    "# Enumerate all active threads\n",
    "active_threads = threading.enumerate()\n",
    "print(\"Active Threads:\", active_threads)"
   ]
  },
  {
   "cell_type": "markdown",
   "metadata": {},
   "source": []
  },
  {
   "cell_type": "markdown",
   "metadata": {},
   "source": [
    "# Answer 3"
   ]
  },
  {
   "cell_type": "markdown",
   "metadata": {},
   "source": [
    "1. **`run()` Method:**\n",
    "   - **Use:**\n",
    "     - The `run()` method is the entry point for the thread's activity. It is the method that will be called when the `start()` method of the thread is invoked.\n",
    "   - **Example:**\n",
    "     In below example, the `run()` method is overridden in the `MyThread` class to define the thread's behavior. When `start()` is called, it internally invokes the `run()` method.\n"
   ]
  },
  {
   "cell_type": "code",
   "execution_count": 9,
   "metadata": {},
   "outputs": [
    {
     "name": "stdout",
     "output_type": "stream",
     "text": [
      "Thread is running\n"
     ]
    }
   ],
   "source": [
    "import threading\n",
    "\n",
    "class MyThread(threading.Thread):\n",
    "    def run(self):\n",
    "        print(\"Thread is running\")\n",
    "\n",
    "# Create and start a thread\n",
    "my_thread = MyThread()\n",
    "my_thread.start()\n"
   ]
  },
  {
   "cell_type": "markdown",
   "metadata": {},
   "source": [
    "2. **`start()` Method:**\n",
    "   - **Use:**\n",
    "     - The `start()` method is used to start the execution of the thread. It internally calls the `run()` method.\n",
    "   - **Example:**\n",
    "     In below example, `start()` is called on the `Thread` object (`my_thread`), initiating the execution of the thread and calling the specified target function (`my_function`)."
   ]
  },
  {
   "cell_type": "code",
   "execution_count": 8,
   "metadata": {},
   "outputs": [
    {
     "name": "stdout",
     "output_type": "stream",
     "text": [
      "Thread Function\n"
     ]
    }
   ],
   "source": [
    "import threading\n",
    "\n",
    "def my_function():\n",
    "    print(\"Thread Function\")\n",
    "\n",
    "# Create and start a thread\n",
    "my_thread = threading.Thread(target=my_function)\n",
    "my_thread.start()\n"
   ]
  },
  {
   "cell_type": "markdown",
   "metadata": {},
   "source": [
    "3. **`join()` Method:**\n",
    "   - **Use:**\n",
    "     - The `join()` method is used to wait for the thread to complete its execution before moving on to the next part of the program.\n",
    "   - **Example:**\n",
    "     In below example, `join()` is called after starting the thread, ensuring that the program waits for `my_thread` to complete its execution before proceeding."
   ]
  },
  {
   "cell_type": "code",
   "execution_count": 7,
   "metadata": {},
   "outputs": [
    {
     "name": "stdout",
     "output_type": "stream",
     "text": [
      "Thread Function\n"
     ]
    }
   ],
   "source": [
    "import threading\n",
    "\n",
    "def my_function():\n",
    "    print(\"Thread Function\")\n",
    "\n",
    "# Create and start a thread\n",
    "my_thread = threading.Thread(target=my_function)\n",
    "my_thread.start()\n",
    "\n",
    "# Wait for the thread to finish\n",
    "my_thread.join()"
   ]
  },
  {
   "cell_type": "markdown",
   "metadata": {},
   "source": [
    "4. **`is_alive()` Method:**\n",
    "   - **Use:**\n",
    "     - The `is_alive()` method is used to check if the thread is currently executing (alive) or has completed its execution.\n",
    "   - **Example:**\n",
    "     In below example, `is_alive()` is used to check whether the thread is still running. The program waits until the thread completes its execution."
   ]
  },
  {
   "cell_type": "code",
   "execution_count": 11,
   "metadata": {},
   "outputs": [
    {
     "name": "stdout",
     "output_type": "stream",
     "text": [
      "Thread is still running...\n",
      "Thread is still running...\n",
      "Thread Function\n",
      "Thread has finished\n"
     ]
    }
   ],
   "source": [
    "import threading\n",
    "import time\n",
    "\n",
    "def my_function():\n",
    "    time.sleep(2)\n",
    "    print(\"Thread Function\")\n",
    "\n",
    "# Create and start a thread\n",
    "my_thread = threading.Thread(target=my_function)\n",
    "my_thread.start()\n",
    "\n",
    "# Check if the thread is alive\n",
    "while my_thread.is_alive():\n",
    "    print(\"Thread is still running...\")\n",
    "    time.sleep(1)\n",
    "\n",
    "print(\"Thread has finished\")"
   ]
  },
  {
   "cell_type": "markdown",
   "metadata": {},
   "source": []
  },
  {
   "cell_type": "markdown",
   "metadata": {},
   "source": [
    "# Answer 4"
   ]
  },
  {
   "cell_type": "markdown",
   "metadata": {},
   "source": [
    "We can create two threads, with each thread responsible for printing either the list of squares or the list of cubes. Here's an example Python program using the `threading` module:\n",
    "\n",
    "In below program:\n",
    "- `print_squares` defines a function that generates and prints the list of squares of numbers from 1 to 5.\n",
    "- `print_cubes` defines a function that generates and prints the list of cubes of numbers from 1 to 5.\n",
    "- Two threads (`thread_squares` and `thread_cubes`) are created, each assigned to one of the functions.\n",
    "- Both threads are started with the `start()` method.\n",
    "- The `join()` method is used to wait for both threads to complete their execution before the program exits."
   ]
  },
  {
   "cell_type": "code",
   "execution_count": 10,
   "metadata": {},
   "outputs": [
    {
     "name": "stdout",
     "output_type": "stream",
     "text": [
      "List of Squares: [1, 4, 9, 16, 25]\n",
      "List of Cubes: [1, 8, 27, 64, 125]\n"
     ]
    }
   ],
   "source": [
    "import threading\n",
    "\n",
    "def print_squares():\n",
    "    squares = [x ** 2 for x in range(1, 6)]\n",
    "    print(\"List of Squares:\", squares)\n",
    "\n",
    "def print_cubes():\n",
    "    cubes = [x ** 3 for x in range(1, 6)]\n",
    "    print(\"List of Cubes:\", cubes)\n",
    "\n",
    "# Create two threads\n",
    "thread_squares = threading.Thread(target=print_squares)\n",
    "thread_cubes = threading.Thread(target=print_cubes)\n",
    "\n",
    "# Start the threads\n",
    "thread_squares.start()\n",
    "thread_cubes.start()\n",
    "\n",
    "# Wait for both threads to finish\n",
    "thread_squares.join()\n",
    "thread_cubes.join()"
   ]
  },
  {
   "cell_type": "markdown",
   "metadata": {},
   "source": []
  },
  {
   "cell_type": "markdown",
   "metadata": {},
   "source": [
    "# Answer 5"
   ]
  },
  {
   "cell_type": "markdown",
   "metadata": {},
   "source": [
    "**Advantages of Multithreading:**\n",
    "\n",
    "1. **Concurrency:** Multithreading allows multiple threads to execute simultaneously, enabling better utilization of CPU resources and improving the overall performance of a program.\n",
    "\n",
    "2. **Responsiveness:** Multithreading is beneficial in user interface (UI) applications, as it helps keep the interface responsive while background tasks are running concurrently.\n",
    "\n",
    "3. **Resource Sharing:** Threads within the same process share the same memory space, making it easier for them to communicate and share data without the need for complex inter-process communication mechanisms.\n",
    "\n",
    "4. **Parallelism for I/O-bound Operations:** Multithreading is useful for I/O-bound operations, such as file reading/writing or network requests, where one thread can perform I/O operations while other threads continue their tasks.\n",
    "\n",
    "5. **Simpler Program Structure:** In some cases, breaking down a program into multiple threads can lead to a simpler and more modular program structure, making it easier to understand and maintain.\n",
    "\n",
    "**Disadvantages of Multithreading:**\n",
    "\n",
    "1. **Complexity:** Multithreading introduces complexity to the program, as developers need to be aware of synchronization issues, race conditions, and other threading-related challenges. Debugging and maintaining multithreaded code can be more challenging.\n",
    "\n",
    "2. **Thread Safety Issues:** Accessing shared resources concurrently can lead to race conditions and data corruption if proper synchronization mechanisms (e.g., locks, semaphores) are not used. Ensuring thread safety adds complexity to the code.\n",
    "\n",
    "3. **Global Interpreter Lock (GIL):** In CPython, the reference implementation of Python, the Global Interpreter Lock (GIL) restricts true parallel execution of threads, limiting the benefits of multithreading in CPU-bound tasks. This is less of an issue for I/O-bound tasks.\n",
    "\n",
    "4. **Increased Memory Overhead:** Each thread requires its own stack and resources, leading to increased memory usage compared to a single-threaded program. This overhead may become significant when dealing with a large number of threads.\n",
    "\n",
    "5. **Difficulty in Debugging:** Identifying and resolving issues in a multithreaded program can be challenging, as race conditions and timing-dependent bugs may not be easily reproducible or predictable."
   ]
  },
  {
   "cell_type": "markdown",
   "metadata": {},
   "source": []
  },
  {
   "cell_type": "markdown",
   "metadata": {},
   "source": [
    "# Answer 6"
   ]
  },
  {
   "cell_type": "markdown",
   "metadata": {},
   "source": [
    "**Deadlocks:**\n",
    "\n",
    "A deadlock is a situation in a multithreaded or multiprocess environment where two or more threads or processes cannot proceed because each is waiting for the other to release a resource. In other words, it's a state where a set of processes are blocked because each process is holding a resource and waiting for another resource acquired by some other process.\n",
    "\n",
    "Key conditions for a deadlock to occur (known as the Coffman conditions):\n",
    "\n",
    "1. **Mutual Exclusion:** At least one resource must be held in a non-sharable mode, meaning only one process can use it at a time.\n",
    "\n",
    "2. **Hold and Wait:** A process must be holding at least one resource and waiting for another resource that is currently being held by some other process.\n",
    "\n",
    "3. **No Preemption:** Resources cannot be forcibly taken away from a process holding them. They must be released voluntarily.\n",
    "\n",
    "4. **Circular Wait:** There must exist a set of processes {P0, P1, ..., Pn} such that P0 is waiting for a resource held by P1, P1 is waiting for a resource held by P2, and Pn is waiting for a resource held by P0, creating a cycle.\n",
    "\n",
    "Avoiding deadlocks involves addressing one or more of these conditions. Strategies include using proper locking mechanisms, avoiding circular waits, and implementing timeouts or mechanisms for breaking cycles.\n",
    "\n",
    "**Race Conditions:**\n",
    "\n",
    "A race condition is a situation in which the behavior of a program depends on the relative timing of events, such as the order in which threads are scheduled to run. It arises when two or more threads or processes access shared data concurrently, and at least one of them modifies the data. The final outcome depends on the timing, and the result may be unpredictable or undesirable.\n",
    "\n",
    "For example, consider the following pseudo-code:\n",
    "\n",
    "```python\n",
    "# Shared variable\n",
    "counter = 0\n",
    "\n",
    "# Function executed by multiple threads\n",
    "def increment_counter():\n",
    "    global counter\n",
    "    current_value = counter\n",
    "    # Simulate some processing time\n",
    "    # ...\n",
    "    counter = current_value + 1\n",
    "```\n",
    "\n",
    "In this case, if multiple threads execute `increment_counter` concurrently, a race condition may occur. If one thread reads the `counter` variable, another thread modifies it before the first thread updates it, the final value of `counter` may not be what is expected.To avoid race conditions, synchronization mechanisms like locks, semaphores, or other concurrency control tools should be employed to ensure that only one thread can access shared resources at a time. Proper synchronization helps in preventing data corruption and maintaining the consistency of shared data."
   ]
  },
  {
   "cell_type": "code",
   "execution_count": null,
   "metadata": {},
   "outputs": [],
   "source": []
  }
 ],
 "metadata": {
  "kernelspec": {
   "display_name": "Python 3",
   "language": "python",
   "name": "python3"
  },
  "language_info": {
   "codemirror_mode": {
    "name": "ipython",
    "version": 3
   },
   "file_extension": ".py",
   "mimetype": "text/x-python",
   "name": "python",
   "nbconvert_exporter": "python",
   "pygments_lexer": "ipython3",
   "version": "3.11.1"
  }
 },
 "nbformat": 4,
 "nbformat_minor": 2
}
