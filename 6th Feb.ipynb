{
 "cells": [
  {
   "cell_type": "markdown",
   "id": "4307a725-159f-4927-a4e4-51b948814c77",
   "metadata": {},
   "source": [
    "# Answer 1."
   ]
  },
  {
   "cell_type": "code",
   "execution_count": 82,
   "id": "a121474a-b1c0-4cca-9aad-6f89fe7f065b",
   "metadata": {},
   "outputs": [
    {
     "data": {
      "text/plain": [
       "4134711838987085478833841242112000"
      ]
     },
     "execution_count": 82,
     "metadata": {},
     "output_type": "execute_result"
    }
   ],
   "source": [
    "from functools import reduce\n",
    "def int_append(list1):\n",
    "    list2=[]\n",
    "    for i in list1:\n",
    "        if type(i)==int:\n",
    "            list2.append(i)\n",
    "        if type(i)==list:\n",
    "            for j in i:\n",
    "                if type(j)==int:\n",
    "                    list2.append(j)\n",
    "        if type(i)==tuple:\n",
    "            for j in i:\n",
    "                if type(j)==int:\n",
    "                    list2.append(j)\n",
    "        if type(i)==set:\n",
    "            for j in list(i):\n",
    "                if type(j)==int:\n",
    "                    list2.append(j)\n",
    "        if type(i)==dict:\n",
    "            for j in i:\n",
    "                if type(j)==int:\n",
    "                    list2.append(j)\n",
    "            for j in i.values():\n",
    "                if type(j)==int:\n",
    "                    list2.append(j)\n",
    "                if type(j)==list:\n",
    "                    for k in j:\n",
    "                        if type(k)==int:\n",
    "                            list2.append(k)\n",
    "                if type(j)==tuple:\n",
    "                    for k in j:\n",
    "                        if type(k)==int:\n",
    "                            list2.append(k)\n",
    "    return mul(list2)\n",
    "\n",
    "def mul(list2):\n",
    "    return reduce(lambda x,y:x*y,list2)\n",
    "\n",
    "list1=[1,2,3,4,[44,55,66,True],False,(34,56,78,89,34),{1,2,3,3,2,1},{1:34,\"key2\":[55,67,78,89],4:(45,22,61,34)},[56,'data science'],\n",
    "       'Machine Learning']\n",
    "int_append(list1)"
   ]
  },
  {
   "cell_type": "code",
   "execution_count": null,
   "id": "9a1e8e5c-db6b-41a8-a6ba-b5a8caef0ca5",
   "metadata": {},
   "outputs": [],
   "source": []
  },
  {
   "cell_type": "markdown",
   "id": "1c66739a-1a62-480a-b890-58ab89891f89",
   "metadata": {},
   "source": [
    "# Answer 2."
   ]
  },
  {
   "cell_type": "code",
   "execution_count": 12,
   "id": "e5f7716d-43aa-4e7b-a1e1-b6989b83b091",
   "metadata": {},
   "outputs": [
    {
     "data": {
      "text/plain": [
       "'r$dzmg$gl$yvxlnv$z$wzgz$hxrvmgrhg.'"
      ]
     },
     "execution_count": 12,
     "metadata": {},
     "output_type": "execute_result"
    }
   ],
   "source": [
    "str1=\"I want to become a Data Scientist.\"\n",
    "def convert(str1):\n",
    "    str2=str1.lower()\n",
    "    return encrypt(str2)\n",
    "def encrypt(str2):\n",
    "    str3=''\n",
    "    for i in str2:\n",
    "        if i=='.':\n",
    "            str3=str3+'.'\n",
    "            continue\n",
    "        if i==\" \":\n",
    "            str3 = str3 + '$'\n",
    "            continue\n",
    "        str3 = str3 + chr(122+97-ord(i))\n",
    "    return str3\n",
    "convert(str1)"
   ]
  },
  {
   "cell_type": "code",
   "execution_count": null,
   "id": "f5fae5c7-3619-49c5-8b55-3d0b55363cf6",
   "metadata": {},
   "outputs": [],
   "source": []
  }
 ],
 "metadata": {
  "kernelspec": {
   "display_name": "Python 3 (ipykernel)",
   "language": "python",
   "name": "python3"
  },
  "language_info": {
   "codemirror_mode": {
    "name": "ipython",
    "version": 3
   },
   "file_extension": ".py",
   "mimetype": "text/x-python",
   "name": "python",
   "nbconvert_exporter": "python",
   "pygments_lexer": "ipython3",
   "version": "3.10.6"
  }
 },
 "nbformat": 4,
 "nbformat_minor": 5
}
