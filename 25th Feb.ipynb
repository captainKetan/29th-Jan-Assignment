{
 "cells": [
  {
   "cell_type": "markdown",
   "id": "2dd7b0bd-a7aa-4897-9a26-802f92e152b5",
   "metadata": {},
   "source": [
    "# Answer 1"
   ]
  },
  {
   "cell_type": "code",
   "execution_count": 4,
   "id": "cc6026fa-8f74-48d0-81f1-d27db95cfabd",
   "metadata": {},
   "outputs": [
    {
     "name": "stdout",
     "output_type": "stream",
     "text": [
      "course_name    Machine Learning\n",
      "duration                      3\n",
      "Name: 1, dtype: object\n"
     ]
    }
   ],
   "source": [
    "import pandas as pd\n",
    "course_name = ['Data Science', 'Machine Learning', 'Big Data', 'Data Engineer']\n",
    "duration = [2,3,6,4]\n",
    "df = pd.DataFrame(data = {'course_name' : course_name, 'duration' : duration})\n",
    "print(df.iloc[1])"
   ]
  },
  {
   "cell_type": "code",
   "execution_count": null,
   "id": "3c4e8518-487b-463c-a059-b982ed93e80e",
   "metadata": {},
   "outputs": [],
   "source": []
  },
  {
   "cell_type": "markdown",
   "id": "e852be27-d670-4973-8c1f-b60c6f386bdf",
   "metadata": {},
   "source": [
    "# Answer 2"
   ]
  },
  {
   "cell_type": "markdown",
   "id": "17777ca9-1c6c-4874-9e75-be39254d036e",
   "metadata": {},
   "source": [
    "- loc uses label-based indexing, which means you specify row and column labels, while iloc uses integer-based indexing where you specify row and column integer positions.\n",
    "\n",
    "- With loc, the endpoints of the range are included in the selection, which means if you use labels, the rows and columns corresponding to those labels are included in the result. With iloc, the endpoints of the range are excluded, which means the row and column at the end of the specified range are not included.\n",
    "\n",
    "- loc allows you to use boolean arrays for selection, which can be very useful for filtering rows based on conditions.\n",
    "\n",
    "- iloc is similar to traditional Python list indexing, while loc is more flexible for selecting data by labels."
   ]
  },
  {
   "cell_type": "code",
   "execution_count": null,
   "id": "ce978c53-6dd4-480f-b495-6446682a7329",
   "metadata": {},
   "outputs": [],
   "source": []
  },
  {
   "cell_type": "markdown",
   "id": "74f83bad-c4bb-495f-b9f2-e5630b2d6953",
   "metadata": {},
   "source": [
    "# Answer 3"
   ]
  },
  {
   "cell_type": "code",
   "execution_count": 12,
   "id": "12a9d2d5-780b-43e5-84ee-f3fcd341b025",
   "metadata": {},
   "outputs": [
    {
     "data": {
      "text/plain": [
       "(course_name    Big Data\n",
       " duration              6\n",
       " Name: 2, dtype: object,\n",
       " course_name    Machine Learning\n",
       " duration                      3\n",
       " Name: 1, dtype: object)"
      ]
     },
     "execution_count": 12,
     "metadata": {},
     "output_type": "execute_result"
    }
   ],
   "source": [
    "import pandas as pd\n",
    "course_name = ['Data Science', 'Machine Learning', 'Big Data', 'Data Engineer']\n",
    "duration = [2,3,6,4]\n",
    "df = pd.DataFrame(data = {'course_name' : course_name, 'duration' : duration})\n",
    "reindex=[3,0,1,2]\n",
    "new_df=df.reindex(reindex)\n",
    "new_df.loc[2], new_df.iloc[2]\n",
    "#Difference between both is that loc gives output based on name of the index and iloc gives output based on position of index"
   ]
  },
  {
   "cell_type": "code",
   "execution_count": null,
   "id": "240d4dfc-ed9e-492b-a97f-a510fcc916ed",
   "metadata": {},
   "outputs": [],
   "source": []
  },
  {
   "cell_type": "markdown",
   "id": "1afd42bd-3905-475c-8453-d7eb9bc6873c",
   "metadata": {},
   "source": [
    "# Answer 4"
   ]
  },
  {
   "cell_type": "code",
   "execution_count": 15,
   "id": "2b7d9b89-f2ef-4a93-8914-454c6d397c35",
   "metadata": {},
   "outputs": [
    {
     "name": "stdout",
     "output_type": "stream",
     "text": [
      "column_1    0.563510\n",
      "column_2    0.591372\n",
      "column_3    0.580751\n",
      "column_4    0.489949\n",
      "column_5    0.645339\n",
      "column_6    0.345932\n",
      "dtype: float64\n",
      "0.16145245734888156\n"
     ]
    }
   ],
   "source": [
    "import pandas as pd\n",
    "import numpy as np\n",
    "columns = ['column_1', 'column_2', 'column_3', 'column_4', 'column_5', 'column_6']\n",
    "indices = [1,2,3,4,5,6]\n",
    "#Creating a dataframe:\n",
    "df1 = pd.DataFrame(np.random.rand(6,6), columns = columns, index = indices)\n",
    "print(df1.mean())\n",
    "print(df1['column_2'].std())"
   ]
  },
  {
   "cell_type": "code",
   "execution_count": null,
   "id": "6859e699-bfee-4382-a577-ad0ddc955ad9",
   "metadata": {},
   "outputs": [],
   "source": []
  },
  {
   "cell_type": "markdown",
   "id": "3f2599e4-cc2d-41bc-83a5-4235858ea860",
   "metadata": {},
   "source": [
    "# Answer 5"
   ]
  },
  {
   "cell_type": "code",
   "execution_count": 24,
   "id": "d4a897f3-67a7-4012-a2c8-b428d50af774",
   "metadata": {},
   "outputs": [],
   "source": [
    "df1.loc[2,'column_2']='A String'\n",
    "df1['column_2'].mean()\n",
    "# Error is coming because mean is calculated only for numerical data whereas in column_2 there is both numerical and string data"
   ]
  },
  {
   "cell_type": "code",
   "execution_count": null,
   "id": "62123b83-66d1-4d80-a37f-8f69e91e3bb3",
   "metadata": {},
   "outputs": [],
   "source": []
  },
  {
   "cell_type": "markdown",
   "id": "f75e2a9a-2058-4209-836d-29cd6964cf27",
   "metadata": {},
   "source": [
    "# Answer 6"
   ]
  },
  {
   "cell_type": "markdown",
   "id": "8789713d-12e3-409c-9aa8-99c0e2b899aa",
   "metadata": {},
   "source": [
    "In pandas, window functions (also known as rolling or moving functions) are operations that are applied to a specific window or subset of data points within a DataFrame. These functions are commonly used for time series data and can provide insights into trends, patterns, and summary statistics over a rolling or moving window of data.\n",
    "\n",
    "Window functions typically involve three main components:\n",
    "\n",
    "- Data Points: The set of data points within the rolling window that the function operates on. These data points are determined by a specified window size or window type.\n",
    "\n",
    "- Operation: The operation or computation that is applied to the data points within the window. Common operations include sum, mean, median, variance, and more.\n",
    "\n",
    "- Output: The result of the operation applied to the data points within the window. This result is typically aligned with the last data point in the window (the \"window anchor\") and is placed in the output DataFrame.\n",
    "\n",
    "Here are some commonly used types of window functions in pandas:\n",
    "\n",
    "- rolling(): The rolling() method is used to create a rolling view of a DataFrame or Series. It allows you to specify a window size and apply various window functions (e.g., sum, mean, min, max) to the data points within the window.\n",
    "\n",
    "- expanding(): The expanding() method is used to calculate cumulative statistics (e.g., cumulative sum, cumulative mean) from the beginning of the data up to the current point.\n",
    "\n",
    "- ewm() (Exponentially Weighted Moving Average): The ewm() method calculates an exponentially weighted moving average, which gives more weight to recent data points and less weight to older data points."
   ]
  },
  {
   "cell_type": "code",
   "execution_count": null,
   "id": "68e9e353-1c9a-4047-9c16-83b4c4fc9877",
   "metadata": {},
   "outputs": [],
   "source": []
  },
  {
   "cell_type": "markdown",
   "id": "01503f61-8f21-4d1d-87d9-c3ee57fb901a",
   "metadata": {},
   "source": [
    "# Answer 7"
   ]
  },
  {
   "cell_type": "code",
   "execution_count": 35,
   "id": "5369344e-2d49-4b55-a7fa-e4cdf45ab88e",
   "metadata": {},
   "outputs": [
    {
     "name": "stdout",
     "output_type": "stream",
     "text": [
      "Month is September and year is 2023\n"
     ]
    },
    {
     "name": "stderr",
     "output_type": "stream",
     "text": [
      "/tmp/ipykernel_118/2834622898.py:1: FutureWarning: The pandas.datetime class is deprecated and will be removed from pandas in a future version. Import from datetime module instead.\n",
      "  current=pd.to_datetime(pd.datetime.now())\n"
     ]
    }
   ],
   "source": [
    "current=pd.to_datetime(pd.datetime.now())\n",
    "month=current.month_name()\n",
    "year=current.year\n",
    "print(f'Month is {month} and year is {year}')"
   ]
  },
  {
   "cell_type": "code",
   "execution_count": null,
   "id": "052787b8-e1cb-45cf-983a-063d8bb04414",
   "metadata": {},
   "outputs": [],
   "source": []
  },
  {
   "cell_type": "markdown",
   "id": "02fe2592-8f4f-4183-b6fc-74db08516326",
   "metadata": {},
   "source": [
    "# Answer 8"
   ]
  },
  {
   "cell_type": "code",
   "execution_count": 39,
   "id": "7626125a-9ba5-4d17-9342-84e8186bd5ff",
   "metadata": {},
   "outputs": [
    {
     "name": "stdin",
     "output_type": "stream",
     "text": [
      "Enter first date:  2022-12-01\n",
      "Enter second date:  2023-01-01\n"
     ]
    },
    {
     "name": "stdout",
     "output_type": "stream",
     "text": [
      "31 days 00:00:00\n"
     ]
    }
   ],
   "source": [
    "d1=pd.to_datetime(input('Enter first date: '))\n",
    "d2=pd.to_datetime(input('Enter second date: '))\n",
    "print(d2-d1)"
   ]
  },
  {
   "cell_type": "code",
   "execution_count": null,
   "id": "9a0eddf8-10ae-4e96-a7a0-fc85792bbcbc",
   "metadata": {},
   "outputs": [],
   "source": []
  },
  {
   "cell_type": "markdown",
   "id": "c1ccaa27-ecd8-4032-9ab3-cb3f2e75939e",
   "metadata": {},
   "source": [
    "# Answer 9"
   ]
  },
  {
   "cell_type": "code",
   "execution_count": null,
   "id": "03c08e20-f47f-4b6b-b148-77cbe157d321",
   "metadata": {},
   "outputs": [],
   "source": [
    "import pandas as pd\n",
    "\n",
    "file_path = input(\"Enter the CSV file path: \")\n",
    "column_name = input(\"Enter the column name to convert to categorical: \")\n",
    "category_order = input(\"Enter the category order (comma-separated): \").split(',')\n",
    "\n",
    "df = pd.read_csv(file_path)\n",
    "df[column_name] = pd.Categorical(df[column_name], categories=category_order, ordered=True)\n",
    "\n",
    "df_sorted = df.sort_values(by=column_name)\n",
    "print(\"\\nSorted DataFrame:\")\n",
    "print(df_sorted)"
   ]
  },
  {
   "cell_type": "code",
   "execution_count": null,
   "id": "ce3c6729-af3c-4ee2-a55b-6b4e198f5580",
   "metadata": {},
   "outputs": [],
   "source": []
  },
  {
   "cell_type": "markdown",
   "id": "d1decc82-8553-466b-b91a-fb6d1a861153",
   "metadata": {},
   "source": [
    "# Answer 10"
   ]
  },
  {
   "cell_type": "code",
   "execution_count": null,
   "id": "719a1313-21c5-4b96-9ca8-b5de9f8fc4c3",
   "metadata": {},
   "outputs": [],
   "source": [
    "import pandas as pd\n",
    "import matplotlib.pyplot as plt\n",
    "file_path = input(\"Enter the CSV file path: \")\n",
    "df = pd.read_csv(file_path)\n",
    "pivot_df = df.pivot_table(index='Date', columns='Product', values='Sales', aggfunc='sum', fill_value=0)\n",
    "\n",
    "# Create a stacked bar chart\n",
    "pivot_df.plot(kind='bar', stacked=True, figsize=(10, 6))\n",
    "plt.title('Stacked Bar Chart of Sales by Product Category Over Time')\n",
    "plt.xlabel('Date')\n",
    "plt.ylabel('Sales')\n",
    "plt.legend(title='Product Category', loc='upper left')\n",
    "plt.tight_layout()\n",
    "plt.show()"
   ]
  },
  {
   "cell_type": "code",
   "execution_count": null,
   "id": "756d269d-1aa2-4ece-b9d2-f727d6581205",
   "metadata": {},
   "outputs": [],
   "source": []
  },
  {
   "cell_type": "markdown",
   "id": "41a63732-d208-45ee-881b-99e3f8207955",
   "metadata": {},
   "source": [
    "# Answer 11"
   ]
  },
  {
   "cell_type": "code",
   "execution_count": null,
   "id": "3ea3a2ce-7520-48d1-9355-25d70918c248",
   "metadata": {},
   "outputs": [],
   "source": [
    "import pandas as pd\n",
    "file_path = input(\"Enter the CSV file path: \")\n",
    "\n",
    "df = pd.read_csv(file_path)\n",
    "mean_score = df['Test Score'].mean()\n",
    "median_score = df['Test Score'].median()\n",
    "mode_score = df['Test Score'].mode().iloc[0]\n",
    "results_table = [\n",
    "    [\"Mean\", mean_score],\n",
    "    [\"Median\", median_score],\n",
    "    [\"Mode\", mode_score]\n",
    "]\n",
    "\n",
    "print(\"\\nTest Score Statistics:\")\n",
    "print(results_table)\n"
   ]
  },
  {
   "cell_type": "code",
   "execution_count": null,
   "id": "35511d5f-23ad-4824-ac95-026ae9d03812",
   "metadata": {},
   "outputs": [],
   "source": []
  }
 ],
 "metadata": {
  "kernelspec": {
   "display_name": "Python 3 (ipykernel)",
   "language": "python",
   "name": "python3"
  },
  "language_info": {
   "codemirror_mode": {
    "name": "ipython",
    "version": 3
   },
   "file_extension": ".py",
   "mimetype": "text/x-python",
   "name": "python",
   "nbconvert_exporter": "python",
   "pygments_lexer": "ipython3",
   "version": "3.10.6"
  }
 },
 "nbformat": 4,
 "nbformat_minor": 5
}
