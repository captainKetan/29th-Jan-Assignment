{
 "cells": [
  {
   "cell_type": "markdown",
   "id": "4635d7a0-605c-43ee-8470-4517fdf9b424",
   "metadata": {},
   "source": [
    "# Answer 1."
   ]
  },
  {
   "cell_type": "code",
   "execution_count": 21,
   "id": "8715c701-06ea-4f4d-b482-b0f2b688ff3d",
   "metadata": {},
   "outputs": [
    {
     "name": "stdout",
     "output_type": "stream",
     "text": [
      "[('Virat Kohli', 24936), ('Jack Kallis', 25534), ('Ricky Ponting', 27483), ('Sachin Tendulkar', 34357)]\n"
     ]
    }
   ],
   "source": [
    "l=[('Sachin Tendulkar',34357),('Ricky Ponting',27483),('Jack Kallis',25534),('Virat Kohli',24936)]\n",
    "l.sort(key=lambda x: x[1])\n",
    "print(l)"
   ]
  },
  {
   "cell_type": "code",
   "execution_count": null,
   "id": "d7b8a6d8-0ae7-41c4-b9d6-813410902da2",
   "metadata": {},
   "outputs": [],
   "source": []
  },
  {
   "cell_type": "markdown",
   "id": "f4109a3a-e1dd-4f3e-989a-e55f4276adde",
   "metadata": {},
   "source": [
    "# Answer 2."
   ]
  },
  {
   "cell_type": "code",
   "execution_count": 1,
   "id": "6fdffb52-02e7-4dec-aa70-340bbe7becd4",
   "metadata": {},
   "outputs": [
    {
     "name": "stdout",
     "output_type": "stream",
     "text": [
      "[1, 4, 9, 16, 25, 36, 49, 64, 81, 100]\n"
     ]
    }
   ],
   "source": [
    "l=[1,2,3,4,5,6,7,8,9,10]\n",
    "print(list(map(lambda x: x**2, l)))"
   ]
  },
  {
   "cell_type": "code",
   "execution_count": null,
   "id": "e164743d-8e1e-4aa4-b65c-cd0706f9d326",
   "metadata": {},
   "outputs": [],
   "source": []
  },
  {
   "cell_type": "markdown",
   "id": "7f089128-0ed1-43c2-96ef-27bd22ad6eb5",
   "metadata": {},
   "source": [
    "# Answer 3."
   ]
  },
  {
   "cell_type": "code",
   "execution_count": 2,
   "id": "54535f65-cbe6-487a-9dd4-520fe0d8f3e3",
   "metadata": {},
   "outputs": [
    {
     "data": {
      "text/plain": [
       "('1', '2', '3', '4', '5', '6', '7', '8', '9', '10')"
      ]
     },
     "execution_count": 2,
     "metadata": {},
     "output_type": "execute_result"
    }
   ],
   "source": [
    "l=[1,2,3,4,5,6,7,8,9,10]\n",
    "tuple(map(lambda x: str(x) ,l))"
   ]
  },
  {
   "cell_type": "code",
   "execution_count": null,
   "id": "678c9f22-30d7-4583-ae87-1a77290c7ba0",
   "metadata": {},
   "outputs": [],
   "source": []
  },
  {
   "cell_type": "markdown",
   "id": "9b67ad38-d493-43b6-93c6-9ef576eaca1c",
   "metadata": {},
   "source": [
    "# Answer 4."
   ]
  },
  {
   "cell_type": "code",
   "execution_count": 4,
   "id": "03559f19-f6f2-4940-8172-5db69c5172fd",
   "metadata": {},
   "outputs": [
    {
     "data": {
      "text/plain": [
       "15511210043330985984000000"
      ]
     },
     "execution_count": 4,
     "metadata": {},
     "output_type": "execute_result"
    }
   ],
   "source": [
    "from functools import reduce\n",
    "i,l=1,[]\n",
    "for i in range(1,26):\n",
    "    l.append(i)\n",
    "reduce(lambda x,y : x*y, l)"
   ]
  },
  {
   "cell_type": "code",
   "execution_count": null,
   "id": "a1fde714-8891-490f-a2f4-091941dad8b0",
   "metadata": {},
   "outputs": [],
   "source": []
  },
  {
   "cell_type": "markdown",
   "id": "4ed9841e-203d-4a53-b665-17dc8d314e12",
   "metadata": {},
   "source": [
    "# Answer 5."
   ]
  },
  {
   "cell_type": "code",
   "execution_count": 13,
   "id": "d38054b4-efbe-40b9-8134-0094456a5dd5",
   "metadata": {},
   "outputs": [
    {
     "name": "stdout",
     "output_type": "stream",
     "text": [
      "Divisible by 2 and 3 both: \n"
     ]
    },
    {
     "data": {
      "text/plain": [
       "[6, 60, 90, 120]"
      ]
     },
     "execution_count": 13,
     "metadata": {},
     "output_type": "execute_result"
    }
   ],
   "source": [
    "l=[2,3,6,9,27,60,90,120,55,46]\n",
    "print(\"Divisible by 2 and 3 both: \")\n",
    "list(filter(lambda x: x%2==0 and x%3==0, l))"
   ]
  },
  {
   "cell_type": "code",
   "execution_count": null,
   "id": "718bf504-4db9-4209-914c-3a6fd9c411a9",
   "metadata": {},
   "outputs": [],
   "source": []
  },
  {
   "cell_type": "markdown",
   "id": "8cd14c90-30b5-4aa3-913e-10ccfb307efc",
   "metadata": {},
   "source": [
    "# Answer 6."
   ]
  },
  {
   "cell_type": "code",
   "execution_count": 14,
   "id": "72418202-30f5-464c-a6ed-2dc3c9475d4b",
   "metadata": {},
   "outputs": [
    {
     "data": {
      "text/plain": [
       "['php', 'aba', 'radar', 'level']"
      ]
     },
     "execution_count": 14,
     "metadata": {},
     "output_type": "execute_result"
    }
   ],
   "source": [
    "l=['python','php','aba','radar','level']\n",
    "list(filter(lambda x: x==x[-1::-1], l))"
   ]
  },
  {
   "cell_type": "code",
   "execution_count": null,
   "id": "d5661a37-990e-42ba-8782-abcc97f20496",
   "metadata": {},
   "outputs": [],
   "source": []
  }
 ],
 "metadata": {
  "kernelspec": {
   "display_name": "Python 3 (ipykernel)",
   "language": "python",
   "name": "python3"
  },
  "language_info": {
   "codemirror_mode": {
    "name": "ipython",
    "version": 3
   },
   "file_extension": ".py",
   "mimetype": "text/x-python",
   "name": "python",
   "nbconvert_exporter": "python",
   "pygments_lexer": "ipython3",
   "version": "3.10.6"
  }
 },
 "nbformat": 4,
 "nbformat_minor": 5
}
