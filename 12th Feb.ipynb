{
 "cells": [
  {
   "cell_type": "markdown",
   "metadata": {},
   "source": [
    "# Answer 1"
   ]
  },
  {
   "cell_type": "markdown",
   "metadata": {},
   "source": [
    "In Python, an exception is an event that occurs during the execution of a program that disrupts the normal flow of instructions. When a Python script encounters a situation that it cannot cope with, it raises an exception. Exceptions are a way of handling errors and exceptional situations in a program.\n",
    "\n",
    "Syntax errors, on the other hand, are a different category of errors. They occur when the Python interpreter encounters a problem with the syntax (structure) of your code. Syntax errors prevent the interpreter from parsing and executing the code correctly. Examples of syntax errors include missing colons, mismatched parentheses, or using an undefined variable.\n",
    "\n",
    "Key differences between exceptions and syntax errors:\n",
    "\n",
    "1. **Type of Error:**\n",
    "   - **Exception:** Run-time error that occurs during the execution of the program.\n",
    "   - **Syntax Error:** Detected by the interpreter during the parsing of the code before execution.\n",
    "\n",
    "2. **Triggering Occasion:**\n",
    "   - **Exception:** Occurs when a specific condition is met during the execution of the program, such as dividing by zero or trying to access an element in a list that does not exist.\n",
    "   - **Syntax Error:** Occurs when the code violates the language's grammar rules, such as missing a required colon or using an invalid keyword.\n",
    "\n",
    "3. **Handling:**\n",
    "   - **Exception:** Can be caught and handled using `try`, `except`, and related statements to gracefully manage the exceptional situation.\n",
    "   - **Syntax Error:** Must be fixed by the programmer before the code can be successfully executed. These errors typically result from typos or structural issues in the code.\n",
    "\n",
    "4. **Timing:**\n",
    "   - **Exception:** Occurs during the execution of the program, often based on run-time conditions.\n",
    "   - **Syntax Error:** Detected during the parsing phase, before the program starts running."
   ]
  },
  {
   "cell_type": "markdown",
   "metadata": {},
   "source": []
  },
  {
   "cell_type": "markdown",
   "metadata": {},
   "source": [
    "# Answer 2"
   ]
  },
  {
   "cell_type": "markdown",
   "metadata": {},
   "source": [
    "When an exception is not handled in Python, it propagates up the call stack until it reaches the default exception handler, which typically results in the termination of the program. This process is known as \"unhandled exception propagation.\" When an exception is not caught and handled, it becomes a runtime error, and the program's normal execution is disrupted.\n",
    "\n",
    "In below example, the `divide_numbers` function attempts to perform a division operation, and the `try` block is used to catch a potential `ZeroDivisionError`. However, the denominator is intentionally set to 0, leading to a division by zero error.Since the exception is not handled within the `try` block, it propagates up to the default exception handler. When the exception is not caught at the top level of the program, Python terminates the program and prints an error message indicating the type of exception and a traceback. In this case, the error message would be:\n",
    "\n",
    "```\n",
    "ZeroDivisionError: division by zero\n",
    "```\n",
    "\n",
    "To prevent the program from terminating abruptly, it's essential to handle exceptions appropriately. Handling exceptions allows you to respond to errors gracefully, log information, or take corrective actions to avoid program termination."
   ]
  },
  {
   "cell_type": "code",
   "execution_count": 1,
   "metadata": {},
   "outputs": [
    {
     "name": "stdout",
     "output_type": "stream",
     "text": [
      "Error: division by zero\n"
     ]
    }
   ],
   "source": [
    "def divide_numbers(a, b):\n",
    "    result = a / b\n",
    "    return result\n",
    "\n",
    "# Example where an exception is not handled\n",
    "try:\n",
    "    numerator = 10\n",
    "    denominator = 0\n",
    "    result = divide_numbers(numerator, denominator)\n",
    "    print(f\"The result of the division is: {result}\")\n",
    "except ZeroDivisionError as e:\n",
    "    print(f\"Error: {e}\")"
   ]
  },
  {
   "cell_type": "markdown",
   "metadata": {},
   "source": []
  },
  {
   "cell_type": "markdown",
   "metadata": {},
   "source": [
    "# Answer 3"
   ]
  },
  {
   "cell_type": "markdown",
   "metadata": {},
   "source": [
    "In Python, the `try`, `except`, `else`, and `finally` statements are used to catch and handle exceptions. These statements provide a way to gracefully manage errors and unexpected situations in your code.\n",
    "\n",
    "Here's a brief explanation of each:\n",
    "\n",
    "1. **`try` and `except`:**\n",
    "   - The `try` block contains the code where you anticipate the occurrence of an exception.\n",
    "   - The `except` block is executed if an exception occurs in the corresponding `try` block. It specifies the type of exception to catch.\n",
    "\n",
    "2. **`else`:**\n",
    "   - The `else` block is optional and is executed only if the `try` block does not raise any exceptions. It is useful for code that should run only when there are no exceptions.\n",
    "\n",
    "3. **`finally`:**\n",
    "   - The `finally` block is optional and is always executed, regardless of whether an exception occurred or not. It is typically used for cleanup actions, such as closing files or releasing resources.\n",
    "\n",
    "In below example:\n",
    "- The first call to `divide_numbers` with `numerator = 10` and `denominator = 2` does not raise an exception. Therefore, the `try` block is executed, the `else` block prints the result, and the `finally` block is executed for cleanup.\n",
    "- The second call to `divide_numbers` with `numerator = 10` and `denominator = 0` raises a `ZeroDivisionError`. In this case, the `except` block is executed to handle the exception, and the `finally` block is still executed for cleanup."
   ]
  },
  {
   "cell_type": "code",
   "execution_count": 2,
   "metadata": {},
   "outputs": [
    {
     "name": "stdout",
     "output_type": "stream",
     "text": [
      "The result of the division is: 5.0\n",
      "This block is always executed, regardless of exceptions.\n",
      "Error: division by zero. Cannot divide by zero.\n",
      "This block is always executed, regardless of exceptions.\n"
     ]
    }
   ],
   "source": [
    "def divide_numbers(a, b):\n",
    "    try:\n",
    "        result = a / b\n",
    "    except ZeroDivisionError as e:\n",
    "        print(f\"Error: {e}. Cannot divide by zero.\")\n",
    "    else:\n",
    "        print(f\"The result of the division is: {result}\")\n",
    "    finally:\n",
    "        print(\"This block is always executed, regardless of exceptions.\")\n",
    "\n",
    "# Example usage\n",
    "numerator = 10\n",
    "denominator = 2\n",
    "divide_numbers(numerator, denominator)\n",
    "\n",
    "numerator = 10\n",
    "denominator = 0\n",
    "divide_numbers(numerator, denominator)"
   ]
  },
  {
   "cell_type": "markdown",
   "metadata": {},
   "source": []
  },
  {
   "cell_type": "markdown",
   "metadata": {},
   "source": [
    "# Answer 4"
   ]
  },
  {
   "cell_type": "markdown",
   "metadata": {},
   "source": [
    "### a) `try` and `else`:\n",
    "\n",
    "The `else` block is executed only if the `try` block does not raise any exceptions. It is useful for code that should run only when there are no exceptions.\n",
    "\n",
    "In below example, the first call to `divide_numbers` does not raise an exception, so the `else` block is executed and the result is printed. The second call raises a `ZeroDivisionError`, so the `except` block is executed instead."
   ]
  },
  {
   "cell_type": "code",
   "execution_count": 3,
   "metadata": {},
   "outputs": [
    {
     "name": "stdout",
     "output_type": "stream",
     "text": [
      "The result of the division is: 5.0\n",
      "Error: division by zero. Cannot divide by zero.\n"
     ]
    }
   ],
   "source": [
    "def divide_numbers(a, b):\n",
    "    try:\n",
    "        result = a / b\n",
    "    except ZeroDivisionError as e:\n",
    "        print(f\"Error: {e}. Cannot divide by zero.\")\n",
    "    else:\n",
    "        print(f\"The result of the division is: {result}\")\n",
    "\n",
    "# Example usage\n",
    "numerator = 10\n",
    "denominator = 2\n",
    "divide_numbers(numerator, denominator)\n",
    "\n",
    "numerator = 10\n",
    "denominator = 0\n",
    "divide_numbers(numerator, denominator)"
   ]
  },
  {
   "cell_type": "markdown",
   "metadata": {},
   "source": [
    "### b) `finally`:\n",
    "\n",
    "The `finally` block is executed regardless of whether an exception occurred or not. It is commonly used for cleanup actions.\n",
    "\n",
    "In below example, the `finally` block contains a statement that is always executed, whether an exception occurs or not. It's useful for releasing resources or performing cleanup actions."
   ]
  },
  {
   "cell_type": "code",
   "execution_count": 4,
   "metadata": {},
   "outputs": [
    {
     "name": "stdout",
     "output_type": "stream",
     "text": [
      "The result of the division is: 5.0\n",
      "This block is always executed, regardless of exceptions.\n",
      "Error: division by zero. Cannot divide by zero.\n",
      "This block is always executed, regardless of exceptions.\n"
     ]
    }
   ],
   "source": [
    "def divide_numbers(a, b):\n",
    "    try:\n",
    "        result = a / b\n",
    "        print(f\"The result of the division is: {result}\")\n",
    "    except ZeroDivisionError as e:\n",
    "        print(f\"Error: {e}. Cannot divide by zero.\")\n",
    "    finally:\n",
    "        print(\"This block is always executed, regardless of exceptions.\")\n",
    "\n",
    "# Example usage\n",
    "numerator = 10\n",
    "denominator = 2\n",
    "divide_numbers(numerator, denominator)\n",
    "\n",
    "numerator = 10\n",
    "denominator = 0\n",
    "divide_numbers(numerator, denominator)"
   ]
  },
  {
   "cell_type": "markdown",
   "metadata": {},
   "source": [
    "### c) `raise`:\n",
    "\n",
    "The `raise` statement is used to explicitly raise an exception within your code.\n",
    "\n",
    "In below example, the `check_positive_number` function raises a `ValueError` if the input is not a positive number. The `try` block attempts to call the function with both a positive and a negative number. When the function is called with a negative number, a `ValueError` is raised, and the `except` block catches and handles it."
   ]
  },
  {
   "cell_type": "code",
   "execution_count": 5,
   "metadata": {},
   "outputs": [
    {
     "name": "stdout",
     "output_type": "stream",
     "text": [
      "Number is positive.\n",
      "Error: Number must be positive.\n"
     ]
    }
   ],
   "source": [
    "def check_positive_number(num):\n",
    "    if num <= 0:\n",
    "        raise ValueError(\"Number must be positive.\")\n",
    "\n",
    "# Example usage\n",
    "try:\n",
    "    check_positive_number(5)\n",
    "    print(\"Number is positive.\")\n",
    "    \n",
    "    check_positive_number(-3)  # This will raise a ValueError\n",
    "except ValueError as e:\n",
    "    print(f\"Error: {e}\")"
   ]
  },
  {
   "cell_type": "markdown",
   "metadata": {},
   "source": []
  },
  {
   "cell_type": "markdown",
   "metadata": {},
   "source": [
    "# Answer 5"
   ]
  },
  {
   "cell_type": "markdown",
   "metadata": {},
   "source": [
    "Custom exceptions in Python allow you to define your own exception classes, providing a way to create and raise exceptions tailored to your specific application or module. This can enhance code readability, maintainability, and help in handling errors in a more meaningful and structured manner. You may need custom exceptions when the built-in exception classes do not accurately represent the nature of the error you want to handle, or when you want to organize and categorize exceptions in a way that makes sense for your application.\n",
    "\n",
    "In below example:\n",
    "- We define a custom exception class `InsufficientFundsError` that inherits from the built-in `Exception` class. The `__init__` method is used to customize the exception with specific information about the error, such as the current balance and the attempted withdrawal amount.\n",
    "\n",
    "- The `withdraw_from_account` function checks if the withdrawal amount is greater than the account balance. If so, it raises an instance of the `InsufficientFundsError` custom exception.\n",
    "\n",
    "- In the example usage, we attempt to withdraw an amount that exceeds the account balance. This raises the `InsufficientFundsError`, which is caught in the `except` block. The error message includes information about the current balance and the attempted withdrawal amount.\n",
    "\n",
    "Custom exceptions help in making your code more modular and expressive. They also facilitate better error handling, allowing you to distinguish between different types of errors and take appropriate actions based on the nature of the exception."
   ]
  },
  {
   "cell_type": "code",
   "execution_count": 6,
   "metadata": {},
   "outputs": [
    {
     "name": "stdout",
     "output_type": "stream",
     "text": [
      "Error: Insufficient funds. Current balance: 1000, Withdrawal amount: 1500\n"
     ]
    }
   ],
   "source": [
    "class InsufficientFundsError(Exception):\n",
    "    \"\"\"Custom exception for insufficient funds in an account.\"\"\"\n",
    "    def __init__(self, balance, amount):\n",
    "        self.balance = balance\n",
    "        self.amount = amount\n",
    "        self.message = f\"Insufficient funds. Current balance: {balance}, Withdrawal amount: {amount}\"\n",
    "\n",
    "def withdraw_from_account(balance, amount):\n",
    "    if amount > balance:\n",
    "        raise InsufficientFundsError(balance, amount)\n",
    "    else:\n",
    "        new_balance = balance - amount\n",
    "        print(f\"Withdrawal successful. New balance: {new_balance}\")\n",
    "        return new_balance\n",
    "\n",
    "# Example usage\n",
    "account_balance = 1000\n",
    "\n",
    "try:\n",
    "    withdrawal_amount = 1500\n",
    "    new_balance = withdraw_from_account(account_balance, withdrawal_amount)\n",
    "except InsufficientFundsError as e:\n",
    "    print(f\"Error: {e.message}\")"
   ]
  },
  {
   "cell_type": "markdown",
   "metadata": {},
   "source": []
  },
  {
   "cell_type": "markdown",
   "metadata": {},
   "source": [
    "# Answer 6"
   ]
  },
  {
   "cell_type": "code",
   "execution_count": 7,
   "metadata": {},
   "outputs": [
    {
     "name": "stdout",
     "output_type": "stream",
     "text": [
      "Custom Error: Input value should be a non-negative number.\n"
     ]
    }
   ],
   "source": [
    "class CustomError(Exception):\n",
    "    \"\"\"Custom exception class.\"\"\"\n",
    "    def __init__(self, message=\"A custom error occurred.\"):\n",
    "        self.message = message\n",
    "        super().__init__(self.message)\n",
    "\n",
    "def example_function(value):\n",
    "    \"\"\"Example function that raises the custom exception.\"\"\"\n",
    "    if value < 0:\n",
    "        raise CustomError(\"Input value should be a non-negative number.\")\n",
    "    else:\n",
    "        return f\"Result: {value * 2}\"\n",
    "\n",
    "# Example usage\n",
    "try:\n",
    "    input_value = -5\n",
    "    result = example_function(input_value)\n",
    "    print(result)\n",
    "except CustomError as ce:\n",
    "    print(f\"Custom Error: {ce.message}\")"
   ]
  },
  {
   "cell_type": "markdown",
   "metadata": {},
   "source": []
  },
  {
   "cell_type": "code",
   "execution_count": null,
   "metadata": {},
   "outputs": [],
   "source": []
  }
 ],
 "metadata": {
  "kernelspec": {
   "display_name": "Python 3",
   "language": "python",
   "name": "python3"
  },
  "language_info": {
   "codemirror_mode": {
    "name": "ipython",
    "version": 3
   },
   "file_extension": ".py",
   "mimetype": "text/x-python",
   "name": "python",
   "nbconvert_exporter": "python",
   "pygments_lexer": "ipython3",
   "version": "3.11.1"
  }
 },
 "nbformat": 4,
 "nbformat_minor": 2
}
