{
 "cells": [
  {
   "cell_type": "markdown",
   "id": "2c00f054-44da-4867-bb61-4109fa119e44",
   "metadata": {},
   "source": [
    "# Answer 1"
   ]
  },
  {
   "cell_type": "code",
   "execution_count": 1,
   "id": "5ab7303c-23a7-43b8-a14b-af2f92d53f75",
   "metadata": {},
   "outputs": [
    {
     "name": "stdout",
     "output_type": "stream",
     "text": [
      "    Name  Age\n",
      "0  Alice   22\n",
      "1    Bob   43\n",
      "2  David   21\n",
      "\n",
      "<class 'pandas.core.frame.DataFrame'>\n",
      "RangeIndex: 3 entries, 0 to 2\n",
      "Data columns (total 2 columns):\n",
      " #   Column  Non-Null Count  Dtype \n",
      "---  ------  --------------  ----- \n",
      " 0   Name    3 non-null      object\n",
      " 1   Age     3 non-null      int64 \n",
      "dtypes: int64(1), object(1)\n",
      "memory usage: 176.0+ bytes\n",
      "None\n",
      "\n",
      "86\n",
      "\n",
      "    Name    Age\n",
      "0  False  False\n",
      "1  False  False\n",
      "2  False  False\n",
      "\n",
      "[22 43 21]\n"
     ]
    }
   ],
   "source": [
    "import pandas as pd\n",
    "# 1. DataFrame\n",
    "df=pd.DataFrame({'Name':['Alice','Bob','David'], 'Age':[22,43,21]})\n",
    "print(df)\n",
    "print('')\n",
    "\n",
    "# 2. info\n",
    "print(df.info())\n",
    "print('')\n",
    "\n",
    "# 3. sum\n",
    "print(df['Age'].sum())\n",
    "print('')\n",
    "\n",
    "# 4. isnull\n",
    "print(df.isnull())\n",
    "print('')\n",
    "\n",
    "# 5. unique\n",
    "print(df['Age'].unique())"
   ]
  },
  {
   "cell_type": "code",
   "execution_count": null,
   "id": "2d7ade7c-69d9-43d2-82ae-c194a8447e50",
   "metadata": {},
   "outputs": [],
   "source": []
  },
  {
   "cell_type": "markdown",
   "id": "60bbbc38-3018-461b-980b-7f9ea55b9069",
   "metadata": {},
   "source": [
    "# Answer 2"
   ]
  },
  {
   "cell_type": "code",
   "execution_count": 2,
   "id": "98a099f2-f028-4e38-8f7f-83ea2024a231",
   "metadata": {},
   "outputs": [
    {
     "name": "stdout",
     "output_type": "stream",
     "text": [
      "        A   B  C\n",
      "1   Rahul  23  M\n",
      "3    Alex  43  M\n",
      "5  Stuart  29  M\n"
     ]
    }
   ],
   "source": [
    "df=pd.DataFrame({'A':['Rahul','Alex','Stuart'], 'B':[23,43,29], 'C':['M','M','M']})\n",
    "def custom_reindex(df):\n",
    "    new_index = range(1, len(df) * 2, 2)\n",
    "    df = df.set_index(pd.Index(new_index))\n",
    "    return df\n",
    "df=custom_reindex(df)\n",
    "print(df)"
   ]
  },
  {
   "cell_type": "code",
   "execution_count": null,
   "id": "9f9bf89d-a469-443c-bcd1-de0617b63d9f",
   "metadata": {},
   "outputs": [],
   "source": []
  },
  {
   "cell_type": "markdown",
   "id": "677c5cc2-af7b-42dc-8583-f2f9eb5ac940",
   "metadata": {},
   "source": [
    "# Answer 3"
   ]
  },
  {
   "cell_type": "code",
   "execution_count": 3,
   "id": "a27cd60c-8468-48e5-8669-b95b88ba4856",
   "metadata": {},
   "outputs": [
    {
     "name": "stdout",
     "output_type": "stream",
     "text": [
      "60\n"
     ]
    }
   ],
   "source": [
    "import pandas as pd\n",
    "df=pd.DataFrame({'Values':[10,20,30,40,50], 'Names':['A','B','C','D','E']})\n",
    "def find_sum(df):\n",
    "    myl=list(df['Values'])[:3]\n",
    "    return sum(myl)\n",
    "result=find_sum(df)\n",
    "print(result)"
   ]
  },
  {
   "cell_type": "code",
   "execution_count": null,
   "id": "96dae1b6-bc7b-4342-8ab2-c58b24569514",
   "metadata": {},
   "outputs": [],
   "source": []
  },
  {
   "cell_type": "markdown",
   "id": "d3a410b8-6e77-475e-b0c6-f2e477f232bd",
   "metadata": {},
   "source": [
    "# Answer 4"
   ]
  },
  {
   "cell_type": "code",
   "execution_count": 4,
   "id": "d4d060fc-11d4-4450-bbfa-691d38e2e2f3",
   "metadata": {},
   "outputs": [
    {
     "name": "stdout",
     "output_type": "stream",
     "text": [
      "       Text Names  Words_Count\n",
      "0     David     A            5\n",
      "1    Stuart     B            6\n",
      "2     Alice     C            5\n",
      "3      John     D            4\n",
      "4  Millenia     E            8\n"
     ]
    }
   ],
   "source": [
    "df=pd.DataFrame({'Text':['David','Stuart','Alice','John','Millenia'], 'Names':['A','B','C','D','E']})\n",
    "def words(df):\n",
    "    word_count=[]\n",
    "    myl=list(df['Text'])\n",
    "    for i in myl:\n",
    "        word_count.append(len(i))\n",
    "    df['Words_Count']=pd.Series(word_count)\n",
    "    return df\n",
    "df=words(df)\n",
    "print(df)"
   ]
  },
  {
   "cell_type": "code",
   "execution_count": null,
   "id": "b9202932-9d82-4423-8ee2-3156eed76ee3",
   "metadata": {},
   "outputs": [],
   "source": []
  },
  {
   "cell_type": "markdown",
   "id": "5f22546d-41b6-4353-bd29-fe2928f06671",
   "metadata": {},
   "source": [
    "# Answer 5"
   ]
  },
  {
   "cell_type": "markdown",
   "id": "1cdab8fc-240c-451d-b4f4-99bec826e544",
   "metadata": {},
   "source": [
    "In pandas, `DataFrame.size` and `DataFrame.shape` are both attributes that provide information about the dimensions of a DataFrame, but they serve slightly different purposes:\n",
    "\n",
    "1. **DataFrame.size**:\n",
    "   - `DataFrame.size` returns the total number of elements in the DataFrame, which is equal to the product of the number of rows and the number of columns.\n",
    "   - It represents the total number of data points or cells in the DataFrame.\n",
    "   - It is an integer value.\n",
    "   \n",
    "2. **DataFrame.shape**:\n",
    "   - `DataFrame.shape` returns a tuple representing the dimensions of the DataFrame in the form of `(rows, columns)`.\n",
    "   - It provides the number of rows and columns as separate values.\n",
    "   - It is a tuple.\n"
   ]
  },
  {
   "cell_type": "code",
   "execution_count": 5,
   "id": "df665a36-3e9b-4fad-af09-4040ab5ab5f3",
   "metadata": {},
   "outputs": [
    {
     "name": "stdout",
     "output_type": "stream",
     "text": [
      "6\n",
      "(3, 2)\n"
     ]
    }
   ],
   "source": [
    "data = {'A': [1, 2, 3], 'B': [4, 5, 6]}\n",
    "df = pd.DataFrame(data)\n",
    "print(df.size)\n",
    "print(df.shape)"
   ]
  },
  {
   "cell_type": "markdown",
   "id": "fd68e9c1-020f-4359-a5cd-435d55fd3858",
   "metadata": {},
   "source": [
    "# Answer 6"
   ]
  },
  {
   "cell_type": "markdown",
   "id": "f96a274e-6893-4f77-ba20-59dc2cd18a18",
   "metadata": {},
   "source": [
    "In pandas, you can use the pd.read_excel() function to read data from an Excel file into a DataFrame. This function allows you to read data from Excel files in various formats, including .xls and .xlsx. Here's how you can use it:\n",
    "\n",
    "'Python Code'\n",
    "\n",
    "import pandas as pd\n",
    "\n",
    "'''Read data from an Excel file into a DataFrame'''\n",
    "\n",
    "df = pd.read_excel('your_excel_file.xlsx')\n",
    "\n",
    "'''Display the DataFrame'''\n",
    "\n",
    "print(df)"
   ]
  },
  {
   "cell_type": "code",
   "execution_count": null,
   "id": "8ed2eb77-ce16-4dd5-9e16-26bb2ff4290f",
   "metadata": {},
   "outputs": [],
   "source": []
  },
  {
   "cell_type": "markdown",
   "id": "ab475bd3-3e38-4344-b436-8a883e61c2ff",
   "metadata": {},
   "source": [
    "# Answer 7"
   ]
  },
  {
   "cell_type": "code",
   "execution_count": 6,
   "id": "ee360068-e9b4-454f-a55a-8c177c6f276c",
   "metadata": {},
   "outputs": [
    {
     "name": "stdout",
     "output_type": "stream",
     "text": [
      "    Names Class                  Email   Username\n",
      "0   David     A    david.iit@gmail.com  david.iit\n",
      "1  Stuart     B      stu_art@yahoo.com    stu_art\n",
      "2   Alice     C  malice.23@hotmail.com  malice.23\n"
     ]
    }
   ],
   "source": [
    "df=pd.DataFrame({'Names':['David','Stuart','Alice'], 'Class':['A','B','C'], 'Email':['david.iit@gmail.com', 'stu_art@yahoo.com', \n",
    "                                                                                   'malice.23@hotmail.com']})\n",
    "def usernames(df):\n",
    "    myl=[]\n",
    "    for i in df['Email']:\n",
    "        myl.append(i.split('@'))\n",
    "    user=[]\n",
    "    for i in myl:\n",
    "        user.append(i[0])\n",
    "    df['Username']=pd.Series(user)\n",
    "    return df\n",
    "\n",
    "df=usernames(df)\n",
    "print(df)"
   ]
  },
  {
   "cell_type": "code",
   "execution_count": null,
   "id": "9bb2f264-5b51-49bc-92dc-c623912f9042",
   "metadata": {},
   "outputs": [],
   "source": []
  },
  {
   "cell_type": "markdown",
   "id": "a3fdb9a5-ff54-4c8e-b648-8f04c10d71fc",
   "metadata": {},
   "source": [
    "# Answer 8"
   ]
  },
  {
   "cell_type": "code",
   "execution_count": 7,
   "id": "9249b1a9-f541-4703-abeb-1d54ac60d1e7",
   "metadata": {},
   "outputs": [
    {
     "name": "stdout",
     "output_type": "stream",
     "text": [
      "   A  B  C\n",
      "1  8  2  7\n",
      "2  6  9  4\n",
      "4  9  1  2\n"
     ]
    }
   ],
   "source": [
    "df=pd.DataFrame({'A':[3,8,6,2,9], 'B':[5,2,9,3,1], 'C':[1,7,4,5,2]})\n",
    "def func(df):\n",
    "    result=df[(df['A'] > 5) & (df['B'] < 10)]\n",
    "    return result\n",
    "df=func(df)\n",
    "print(df)"
   ]
  },
  {
   "cell_type": "code",
   "execution_count": null,
   "id": "063d095c-f8a2-4015-a06c-658c16c29b7f",
   "metadata": {},
   "outputs": [],
   "source": []
  },
  {
   "cell_type": "markdown",
   "id": "4f93c688-268e-413f-8dd5-dc9810308b00",
   "metadata": {},
   "source": [
    "# Answer 9"
   ]
  },
  {
   "cell_type": "code",
   "execution_count": 8,
   "id": "e3c0667f-bc4b-45ac-b712-eba499b6b9a8",
   "metadata": {},
   "outputs": [
    {
     "name": "stdout",
     "output_type": "stream",
     "text": [
      "Mean is 9.0, median is 3.5 and standard deviation is 10.893423092245461\n"
     ]
    },
    {
     "data": {
      "text/plain": [
       "dtype('bool')"
      ]
     },
     "execution_count": 8,
     "metadata": {},
     "output_type": "execute_result"
    }
   ],
   "source": [
    "df=pd.DataFrame({'Values':[1,2,4,32,3,12]})\n",
    "def med(x):\n",
    "    l=len(x)\n",
    "    new=x.sort()\n",
    "    if l%2==0:\n",
    "        m=(x[int(l/2)]+x[int(-1+(l/2))])/2\n",
    "    else:\n",
    "        m=x[int((l-1)/2)]\n",
    "    return m\n",
    "    \n",
    "def calc(df):\n",
    "    mean=sum(df['Values'])/len(df['Values'])\n",
    "    median=med(list(df['Values']))\n",
    "    std=(sum(list(map(lambda x: (x-mean)**2, df['Values'] )))/len(df['Values']) )**0.5\n",
    "    print(f'Mean is {mean}, median is {median} and standard deviation is {std}')\n",
    "calc(df)\n",
    "df['Values']=df[\"Values\"].dtype==float\n",
    "df['Values'].dtype"
   ]
  },
  {
   "cell_type": "code",
   "execution_count": null,
   "id": "61d22d1b-c02d-4c95-ab83-0fbc96694225",
   "metadata": {},
   "outputs": [],
   "source": []
  },
  {
   "cell_type": "markdown",
   "id": "5f772e5f-70a7-4e29-9c1f-80916ce9357b",
   "metadata": {},
   "source": [
    "# Answer 10"
   ]
  },
  {
   "cell_type": "code",
   "execution_count": 30,
   "id": "91a8f7a9-5fb4-4b4f-af33-3c5ed620f07a",
   "metadata": {},
   "outputs": [],
   "source": [
    "import numpy as np"
   ]
  },
  {
   "cell_type": "code",
   "execution_count": 38,
   "id": "0ae4c6ba-354a-415d-9aab-96eb401b7c0e",
   "metadata": {},
   "outputs": [
    {
     "name": "stdout",
     "output_type": "stream",
     "text": [
      "         Date  Sales  MovingAverage\n",
      "0  2023-01-01     10      72.857143\n",
      "1  2023-01-02     20      74.285714\n",
      "2  2023-01-03     30      72.857143\n",
      "3  2023-01-04     20      82.142857\n",
      "4  2023-01-05    340      87.285714\n",
      "5  2023-01-06     40      44.857143\n",
      "6  2023-01-07     50      48.714286\n",
      "7  2023-01-08     20      54.285714\n",
      "8  2023-01-09     10            NaN\n",
      "9  2023-01-10     95            NaN\n",
      "10 2023-01-11     56            NaN\n",
      "11 2023-01-12     43            NaN\n",
      "12 2023-01-13     67            NaN\n",
      "13 2023-01-14     89            NaN\n",
      "14 2023-01-15     51            NaN\n"
     ]
    }
   ],
   "source": [
    "df=pd.DataFrame({'Date':pd.date_range(start='2023-01-01', periods=15),\n",
    "                'Sales':[10,20,30,20,340,40,50,20,10,95,56,43,67,89,51]})\n",
    "def func(df):\n",
    "    a=7\n",
    "    result=[]\n",
    "    while a!=len(df):\n",
    "        result.append(np.average(df['Sales'][a-7:a]))\n",
    "        a+=1\n",
    "    df['MovingAverage']=pd.Series(result)\n",
    "    return df\n",
    "df=func(df)\n",
    "print(df)"
   ]
  },
  {
   "cell_type": "code",
   "execution_count": null,
   "id": "12b780b5-00f4-43cb-b0c5-f99c1f82f364",
   "metadata": {},
   "outputs": [],
   "source": []
  },
  {
   "cell_type": "markdown",
   "id": "a0063d61-f9b3-4ae6-b012-71f80d4e3f38",
   "metadata": {},
   "source": [
    "# Answer 11"
   ]
  },
  {
   "cell_type": "code",
   "execution_count": 23,
   "id": "faae16dc-adce-4a8b-a6a4-e76b7b626838",
   "metadata": {},
   "outputs": [
    {
     "name": "stdout",
     "output_type": "stream",
     "text": [
      "        Date   Day Name\n",
      "0 2023-01-01     Sunday\n",
      "1 2023-01-02     Monday\n",
      "2 2023-01-03    Tuesday\n",
      "3 2023-01-04  Wednesday\n",
      "4 2023-01-05   Thursday\n"
     ]
    }
   ],
   "source": [
    "df=pd.DataFrame({'Date':pd.to_datetime(['2023-01-01','2023-01-02','2023-01-03',\n",
    "                                       '2023-01-04','2023-01-05'])})\n",
    "def func(df):\n",
    "    df['Day Name']=df['Date'].dt.day_name()\n",
    "    return df\n",
    "df=func(df)\n",
    "print(df)"
   ]
  },
  {
   "cell_type": "code",
   "execution_count": null,
   "id": "a041b7cb-43ec-456f-9956-a7a359e9a676",
   "metadata": {},
   "outputs": [],
   "source": []
  },
  {
   "cell_type": "markdown",
   "id": "069f9fc1-d31f-4786-a8bd-1b81b1be500a",
   "metadata": {},
   "source": [
    "# Answer 12"
   ]
  },
  {
   "cell_type": "code",
   "execution_count": 25,
   "id": "fbbda584-db48-4245-8c93-2f91170b5e39",
   "metadata": {},
   "outputs": [
    {
     "name": "stdout",
     "output_type": "stream",
     "text": [
      "        Date\n",
      "0 2023-01-01\n",
      "1 2023-01-02\n",
      "2 2023-01-03\n",
      "3 2023-01-04\n",
      "4 2023-01-31\n"
     ]
    }
   ],
   "source": [
    "df=pd.DataFrame({'Date':pd.to_datetime(['2023-01-01','2023-01-02','2023-01-03',\n",
    "                                       '2023-01-04','2023-01-31','2023-02-01'])})\n",
    "def func(df, start, end):\n",
    "    result=df[(df['Date'] >= start) & (df['Date'] <= end)]\n",
    "    return result\n",
    "result=func(df,'2023-01-01','2023-01-31')\n",
    "print(result)"
   ]
  },
  {
   "cell_type": "code",
   "execution_count": null,
   "id": "45735cfa-65c3-415d-aed1-db4fd289579e",
   "metadata": {},
   "outputs": [],
   "source": []
  },
  {
   "cell_type": "markdown",
   "id": "e5d395d2-d782-47eb-a254-49a0ee6b8bfb",
   "metadata": {},
   "source": [
    "# Answer 13"
   ]
  },
  {
   "cell_type": "markdown",
   "id": "9ef788ce-bbd0-4d01-bac7-6d1a10d5c354",
   "metadata": {},
   "source": [
    "To use the basic functions of pandas, the first and foremost library to import is `Pandas`. It can be imported as\n",
    "- `import pandas as pd`"
   ]
  },
  {
   "cell_type": "code",
   "execution_count": null,
   "id": "954cb319-0bcf-44f3-88e9-e534458ae2fa",
   "metadata": {},
   "outputs": [],
   "source": []
  }
 ],
 "metadata": {
  "kernelspec": {
   "display_name": "Python 3 (ipykernel)",
   "language": "python",
   "name": "python3"
  },
  "language_info": {
   "codemirror_mode": {
    "name": "ipython",
    "version": 3
   },
   "file_extension": ".py",
   "mimetype": "text/x-python",
   "name": "python",
   "nbconvert_exporter": "python",
   "pygments_lexer": "ipython3",
   "version": "3.10.6"
  }
 },
 "nbformat": 4,
 "nbformat_minor": 5
}
