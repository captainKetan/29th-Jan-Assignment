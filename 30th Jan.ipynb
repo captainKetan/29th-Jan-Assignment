{
 "cells": [
  {
   "cell_type": "markdown",
   "id": "bb48ed7c-5339-456e-9b68-f71226b3bf97",
   "metadata": {},
   "source": [
    "Answer 1."
   ]
  },
  {
   "cell_type": "code",
   "execution_count": 3,
   "id": "f9521f43-7c37-4205-bee2-ef5453ae4932",
   "metadata": {},
   "outputs": [
    {
     "name": "stdin",
     "output_type": "stream",
     "text": [
      "Enter the percentage:  95\n"
     ]
    },
    {
     "name": "stdout",
     "output_type": "stream",
     "text": [
      "Grade A\n"
     ]
    }
   ],
   "source": [
    "perc=int(input(\"Enter the percentage: \"))\n",
    "if perc>90:\n",
    "    print(\"Grade A\")\n",
    "elif perc>80 and perc<=90:\n",
    "    print(\"Grade B\")\n",
    "elif perc>=60 and perc<=80:\n",
    "    print(\"Grade C\")\n",
    "elif perc<60:\n",
    "    print(\"Grade D\")"
   ]
  },
  {
   "cell_type": "code",
   "execution_count": null,
   "id": "5b17d20f-4452-4d6c-938d-363c0ef6c0e0",
   "metadata": {},
   "outputs": [],
   "source": []
  },
  {
   "cell_type": "markdown",
   "id": "4e6758aa-1863-4d27-b1d4-2bb7727d14e0",
   "metadata": {},
   "source": [
    "Answer 2."
   ]
  },
  {
   "cell_type": "code",
   "execution_count": 4,
   "id": "83d95e8f-2c5c-48fe-a161-d3d84da92563",
   "metadata": {},
   "outputs": [
    {
     "name": "stdin",
     "output_type": "stream",
     "text": [
      "Enter the price of bike:  2500\n"
     ]
    },
    {
     "name": "stdout",
     "output_type": "stream",
     "text": [
      "Road tax is:  125.0\n"
     ]
    }
   ],
   "source": [
    "cost=int(input(\"Enter the price of bike: \"))\n",
    "tax=0\n",
    "if cost>100000:\n",
    "    tax=cost*0.15\n",
    "    print(\"Road tax to be paid is: \",tax)\n",
    "elif cost>50000 and cost<=100000:\n",
    "    tax=cost*0.10\n",
    "    print(\"Road tax is: \",tax)\n",
    "elif cost<=50000:\n",
    "    tax=cost*0.05\n",
    "    print(\"Road tax is: \",tax)"
   ]
  },
  {
   "cell_type": "code",
   "execution_count": null,
   "id": "856fdd7f-7e0d-4e2c-82f2-c17c8d0a1552",
   "metadata": {},
   "outputs": [],
   "source": []
  },
  {
   "cell_type": "markdown",
   "id": "a788d8d6-2eb8-48e2-a8a9-72f7b17b3a57",
   "metadata": {},
   "source": [
    "Answer 3."
   ]
  },
  {
   "cell_type": "code",
   "execution_count": 5,
   "id": "edd95c29-cf39-4567-a962-9d8f7750ea2c",
   "metadata": {},
   "outputs": [
    {
     "name": "stdin",
     "output_type": "stream",
     "text": [
      "Enter city:  Jaipur\n"
     ]
    },
    {
     "name": "stdout",
     "output_type": "stream",
     "text": [
      "Monument of Jaipur is Jal Mahal \n"
     ]
    }
   ],
   "source": [
    "city=input(\"Enter city: \")\n",
    "if city=='Delhi':\n",
    "    print(f\"Monument of {city} is Red Fort \")\n",
    "if city==\"Agra\":\n",
    "    print(f\"Monument of {city} is Taj Mahal \")\n",
    "if city=='Jaipur':\n",
    "    print(f\"Monument of {city} is Jal Mahal \")"
   ]
  },
  {
   "cell_type": "code",
   "execution_count": null,
   "id": "7ff94fcc-8bbd-40bf-9f35-de1e243f89ec",
   "metadata": {},
   "outputs": [],
   "source": []
  },
  {
   "cell_type": "markdown",
   "id": "8bcf2636-db02-4e0f-8066-7ef4228a93d5",
   "metadata": {},
   "source": [
    "Answer 4."
   ]
  },
  {
   "cell_type": "code",
   "execution_count": 6,
   "id": "87693e91-3a2b-4d7e-9635-d643fa5400b7",
   "metadata": {},
   "outputs": [
    {
     "name": "stdin",
     "output_type": "stream",
     "text": [
      "Enter a number:  100\n"
     ]
    },
    {
     "name": "stdout",
     "output_type": "stream",
     "text": [
      "2\n"
     ]
    }
   ],
   "source": [
    "num=int(input(\"Enter a number: \"))\n",
    "count=0\n",
    "while(True):\n",
    "    res=num/3\n",
    "    if res>10:\n",
    "        count=count+1\n",
    "        num=res\n",
    "        continue\n",
    "    if res<=10:\n",
    "        break\n",
    "print(count)"
   ]
  },
  {
   "cell_type": "code",
   "execution_count": null,
   "id": "7af21c0c-b0ff-4149-a835-29fc1537088d",
   "metadata": {},
   "outputs": [],
   "source": []
  },
  {
   "cell_type": "markdown",
   "id": "aac2d126-5049-42ce-a92d-6c079e585240",
   "metadata": {},
   "source": [
    "Answer 5."
   ]
  },
  {
   "cell_type": "markdown",
   "id": "92457279-7c54-4cab-99f4-6ed74140608f",
   "metadata": {},
   "source": [
    "In Python, a while loop is used to repeat a block of code as long as a certain condition is true. The general syntax for a while loop in Python is:\n",
    "\n",
    "while condition:\n",
    "    # code to execute\n",
    "    \n",
    "The condition is evaluated at the start of each iteration of the loop. If the condition is true, then the block of code is executed. After the block of code has been executed, the condition is checked again, and if it is still true, the loop will execute again. This process will continue until the condition becomes false.\n",
    "\n",
    "A while loop is useful in situations where you want to repeat a block of code until a specific condition is met. Some examples of when to use a while loop in Python include:\n",
    "\n",
    "1)Repeating an action until a certain condition is met: You can use a while loop to repeat a certain action until a specific condition is met. For example, you might use a while loop to repeatedly prompt a user for input until they enter a valid input.\n",
    "\n",
    "valid_input = False\n",
    "while not valid_input:\n",
    "    user_input = input(\"Enter a number: \")\n",
    "    if user_input.isdigit():\n",
    "        valid_input = True\n",
    "    else:\n",
    "        print(\"Invalid input. Please enter a valid number.\")\n",
    "\n",
    "2)Performing an action for a specific number of times: You can use a while loop to perform an action for a specific number of times. For example, you might use a while loop to print the numbers from 1 to 10.\n",
    "\n",
    "i = 1\n",
    "while i <= 10:\n",
    "    print(i)\n",
    "    i += 1\n",
    "\n",
    "3)Repeating an action indefinitely until a break condition is met: You can use a while loop to repeat an action indefinitely until a break condition is met. For example, you might use a while loop to repeatedly generate a random number until a specific number is generated.\n",
    "\n",
    "import random\n",
    "\n",
    "while True:\n",
    "    num = random.randint(1, 10)\n",
    "    print(num)\n",
    "    if num == 7:\n",
    "        break\n",
    "\n",
    "In this example, the while loop will repeat indefinitely until a random number of 7 is generated. Once a 7 is generated, the loop will exit due to the break statement."
   ]
  },
  {
   "cell_type": "code",
   "execution_count": null,
   "id": "56becac2-cdee-4950-bc42-33d3ac8d1cb1",
   "metadata": {},
   "outputs": [],
   "source": []
  },
  {
   "cell_type": "markdown",
   "id": "17e4b2b6-38f7-433c-8ed2-96dbdec9d2c5",
   "metadata": {},
   "source": [
    "Answer 6."
   ]
  },
  {
   "cell_type": "code",
   "execution_count": 2,
   "id": "0853a81d-fd02-4128-a46f-01f20abe890d",
   "metadata": {},
   "outputs": [
    {
     "name": "stdout",
     "output_type": "stream",
     "text": [
      "*          *          *\n",
      "**        ***        **\n",
      "***      *****      ***\n",
      "****    *******    ****\n",
      "*****  *********  *****\n"
     ]
    }
   ],
   "source": [
    "pat1,pat2,pat3,i,j,k,l='*','*','*',1,10,10,1\n",
    "while i<=5:\n",
    "    print(pat1*i+\" \"*j+pat2*l+\" \"*k+pat3*i)\n",
    "    i+=1\n",
    "    j-=2\n",
    "    l+=2\n",
    "    k-=2"
   ]
  },
  {
   "cell_type": "code",
   "execution_count": null,
   "id": "2cf566ac-39bc-409b-9dba-b61a288741be",
   "metadata": {},
   "outputs": [],
   "source": []
  },
  {
   "cell_type": "markdown",
   "id": "03db2739-97ae-4fdc-803e-80b2e4ce511e",
   "metadata": {},
   "source": [
    "Answer 7."
   ]
  },
  {
   "cell_type": "code",
   "execution_count": 3,
   "id": "4d286c53-d2d7-4fd7-bfb5-c7fa8dd27d30",
   "metadata": {},
   "outputs": [
    {
     "name": "stdout",
     "output_type": "stream",
     "text": [
      "10\n",
      "9\n",
      "8\n",
      "7\n",
      "6\n",
      "5\n",
      "4\n",
      "3\n",
      "2\n",
      "1\n"
     ]
    }
   ],
   "source": [
    "i=10\n",
    "while i>0:\n",
    "    print(i)\n",
    "    i-=1"
   ]
  },
  {
   "cell_type": "code",
   "execution_count": null,
   "id": "1606651c-8a6f-47dd-b0a1-75c4f3510eb0",
   "metadata": {},
   "outputs": [],
   "source": []
  },
  {
   "cell_type": "markdown",
   "id": "b508e905-b9ab-495e-bbce-c6419f84d849",
   "metadata": {},
   "source": [
    "Answer 8."
   ]
  },
  {
   "cell_type": "code",
   "execution_count": 4,
   "id": "ed1606f6-65ca-4f65-84b9-bd86aa82abd2",
   "metadata": {},
   "outputs": [
    {
     "name": "stdout",
     "output_type": "stream",
     "text": [
      "10\n",
      "9\n",
      "8\n",
      "7\n",
      "6\n",
      "5\n",
      "4\n",
      "3\n",
      "2\n",
      "1\n"
     ]
    }
   ],
   "source": [
    "i=10\n",
    "while i>0:\n",
    "    print(i)\n",
    "    i-=1"
   ]
  },
  {
   "cell_type": "code",
   "execution_count": null,
   "id": "2022c1f2-f963-4b37-8d43-eaff270c4594",
   "metadata": {},
   "outputs": [],
   "source": []
  }
 ],
 "metadata": {
  "kernelspec": {
   "display_name": "Python 3 (ipykernel)",
   "language": "python",
   "name": "python3"
  },
  "language_info": {
   "codemirror_mode": {
    "name": "ipython",
    "version": 3
   },
   "file_extension": ".py",
   "mimetype": "text/x-python",
   "name": "python",
   "nbconvert_exporter": "python",
   "pygments_lexer": "ipython3",
   "version": "3.10.6"
  }
 },
 "nbformat": 4,
 "nbformat_minor": 5
}
