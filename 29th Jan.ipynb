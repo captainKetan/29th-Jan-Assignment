{
 "cells": [
  {
   "cell_type": "markdown",
   "id": "13187fe9-3888-4057-9932-352c9d5ae525",
   "metadata": {},
   "source": [
    "Answer 1.\n",
    "Python programming language is designed by a Dutch programmer Guido van Rossum in Netherlands"
   ]
  },
  {
   "cell_type": "markdown",
   "id": "8c2c6cb9-6397-4ae3-81ca-26d336aeb3df",
   "metadata": {},
   "source": [
    "Answer 2.\n",
    "Python is an interpreted programming language, which supports object oriented, structured and functional programming."
   ]
  },
  {
   "cell_type": "markdown",
   "id": "d0047dcc-52f0-4ea9-8f14-75cebfcb469d",
   "metadata": {},
   "source": [
    "Answer 3.\n",
    "Yes python is case sensitive when dealing with identifiers."
   ]
  },
  {
   "cell_type": "markdown",
   "id": "779d20c2-b9e4-4045-9192-3222239d5280",
   "metadata": {},
   "source": [
    "Answer 4.\n",
    "Python files are saved with extension '.py'."
   ]
  },
  {
   "cell_type": "markdown",
   "id": "49f1464f-6866-467f-b3bd-b02101d9a45d",
   "metadata": {},
   "source": [
    "Answer 5.\n",
    "Python is both compiled and interpreted language."
   ]
  },
  {
   "cell_type": "markdown",
   "id": "f07377fb-00ca-4b24-9d31-97a48eb34900",
   "metadata": {},
   "source": [
    "Answer 6.\n",
    "In Python, code blocks are used to define the structure and hierarchy of the code. Here are some of the blocks of code commonly used in Python:\n",
    "\n",
    "1.Function blocks: Functions are defined using the \"def\" keyword, followed by the function name and arguments, and a colon. The code inside the function is indented, and the function ends when the indentation ends.\n",
    "\n",
    "2.Conditional blocks: Conditional statements are used to execute different code based on a condition. The \"if\", \"else\", and \"elif\" keywords are used to define the condition and the code to be executed. The code inside the conditional block is indented.\n",
    "\n",
    "3.Loop blocks: Loop statements are used to execute a block of code multiple times. The \"for\" and \"while\" keywords are used to define the loop and the code to be executed. The code inside the loop block is indented.\n",
    "\n",
    "4.Class blocks: Classes are used to define objects with properties and methods. The \"class\" keyword is used to define the class and the code inside the class block defines the properties and methods."
   ]
  },
  {
   "cell_type": "markdown",
   "id": "b6e184cd-97f7-4dae-b263-72c2ee83e8ba",
   "metadata": {},
   "source": []
  },
  {
   "cell_type": "markdown",
   "id": "5b30013b-8d65-45a6-b129-2cd63c3ec810",
   "metadata": {},
   "source": [
    "Answer 7.\n",
    "Hash character (#) is used before beginning of line to write single line comments."
   ]
  },
  {
   "cell_type": "markdown",
   "id": "541796a6-3db0-4ff2-91de-4b46188bd7ba",
   "metadata": {},
   "source": [
    "Answer 8.\n",
    "The function 'sys.version' helps us find the version of python that we are currently working on."
   ]
  },
  {
   "cell_type": "markdown",
   "id": "f6cf7794-0f42-4e1f-bd88-fc4ec381661a",
   "metadata": {},
   "source": [
    "Answer 9.\n",
    "Python supports the creation of anonymous functions at runtime, using a construct called Lambda. Lambda functions are restricted to a single expression. They can be used wherever normal functions can be used."
   ]
  },
  {
   "cell_type": "markdown",
   "id": "d543fe3f-c299-4a98-8439-56df9e4944d4",
   "metadata": {},
   "source": [
    "Answer 10.\n",
    "pip is a package manager for python. It stands for Preferred Installer Program and helps to install packages in python."
   ]
  },
  {
   "cell_type": "markdown",
   "id": "8deaea36-efbc-436d-abe6-f18793a67652",
   "metadata": {},
   "source": [
    "Answer 11.\n",
    "Few built-in functions in python are: print(), pow(), range(), bool(), etc."
   ]
  },
  {
   "cell_type": "markdown",
   "id": "e225aed6-7a72-4321-8a70-f05181126e0a",
   "metadata": {},
   "source": [
    "Answer 12.\n",
    "Identifiers can be of any length. We just need to define them correctly with proper naming convention."
   ]
  },
  {
   "cell_type": "markdown",
   "id": "a9562513-8e14-401c-8ab8-d6e8d42e300f",
   "metadata": {},
   "source": [
    "Answer 13.\n",
    "Python is a high level language. It is dynamically typed and is portable and interactive. It is versatile, easy to learn, read and write. Moreover presence of third party modules makes our work easy."
   ]
  },
  {
   "cell_type": "markdown",
   "id": "5e7df923-43c0-451f-a2f5-de619527154d",
   "metadata": {},
   "source": [
    "Answer 14.\n",
    "Memory management in Python is done automatically by the Python interpreter, using a combination of techniques, including reference counting, garbage collection, and memory pooling.\n",
    "\n",
    "1.Reference counting: Python uses a reference counting mechanism to keep track of the memory usage of objects. Each object in Python has a reference count, which is the number of references to that object. When an object is created, its reference count is set to 1. When the object is assigned to a variable or passed as an argument to a function, the reference count is incremented. When a variable is deleted or goes out of scope, or when a function call returns, the reference count of the object is decremented. When the reference count of an object reaches 0, the object is deleted.\n",
    "\n",
    "2.Garbage collection: Python also has a garbage collector that runs periodically to free up memory that is no longer being used by the program. The garbage collector identifies and removes objects that are no longer accessible from the program. This is done by identifying objects that have a reference count of 0 or objects that cannot be reached by any reference chain.\n",
    "\n",
    "3.Memory pooling: Python uses a memory pool for efficient allocation and deallocation of memory. The memory pool is a pre-allocated block of memory that is used to satisfy allocation requests. When an object is deleted, its memory is returned to the memory pool for later reuse. This can reduce the overhead of memory allocation and deallocation, and improve the performance of the program."
   ]
  },
  {
   "cell_type": "code",
   "execution_count": null,
   "id": "59a8adf1-c6dd-4dc5-aa0e-2d9203f6bcdf",
   "metadata": {},
   "outputs": [],
   "source": []
  },
  {
   "cell_type": "markdown",
   "id": "5f8012c8-7395-4894-81af-5853b1231690",
   "metadata": {},
   "source": [
    "Answer 15.\n",
    "Here are the steps to install Python on Windows and set the path variables:\n",
    "\n",
    "1.Download the latest version of Python from the official website: https://www.python.org/downloads/windows/\n",
    "\n",
    "2.Run the installer and select \"Customize installation\".\n",
    "\n",
    "3.In the \"Optional Features\" screen, make sure to check \"Add Python to environment variables\" and click \"Next\" to proceed.\n",
    "\n",
    "4.In the \"Advanced Options\" screen, you can choose to install Python for all users or just for your user account. Choose the appropriate option and click \"Install\".\n",
    "\n",
    "5.Wait for the installation to complete. Once done, you should see a message indicating that Python has been successfully installed.\n",
    "\n",
    "6.To verify that Python has been installed, open the command prompt by pressing the \"Windows key + R\", type \"cmd\" and hit Enter. Then, type \"python --version\" and hit Enter. You should see the version of Python you just installed.\n",
    "\n",
    "7.To set the path variables, right-click on \"This PC\" and select \"Properties\". Then, click on \"Advanced system settings\" and select the \"Environment Variables\" button.\n",
    "\n",
    "8.Under \"System Variables\", scroll down until you find \"Path\" and click \"Edit\".\n",
    "\n",
    "9.Click \"New\" and enter the path to the folder containing the Python executable. This is typically \"C:\\Python39\" for Python 3.9, but it may be different depending on the version you installed and where you chose to install it.\n",
    "\n",
    "10.Click \"OK\" to close all the windows and save the changes.\n",
    "\n",
    "11.You can now use Python from the command prompt or any other terminal window by simply typing \"python\" and hitting Enter. If you encounter any issues, make sure to double-check that the path variables have been set correctly."
   ]
  },
  {
   "cell_type": "code",
   "execution_count": null,
   "id": "e5530fa1-21e9-499b-85e3-d1b9debd14d4",
   "metadata": {},
   "outputs": [],
   "source": []
  },
  {
   "cell_type": "markdown",
   "id": "c46b0ae6-4c43-4032-9867-d63720c2fc4c",
   "metadata": {},
   "source": [
    "Answer 16.\n",
    "Yes, indentation is required in Python. In Python, indentation is used to define the structure and hierarchy of the code blocks, such as functions, loops, and conditional statements.\n",
    "Python uses whitespace indentation, typically four spaces, to indicate which lines of code belong to a particular block. This is in contrast to other programming languages that use curly braces or other symbols to define code blocks."
   ]
  },
  {
   "cell_type": "code",
   "execution_count": null,
   "id": "b15f22bf-60f0-4e9a-b561-de49200f4ee8",
   "metadata": {},
   "outputs": [],
   "source": []
  }
 ],
 "metadata": {
  "kernelspec": {
   "display_name": "Python 3 (ipykernel)",
   "language": "python",
   "name": "python3"
  },
  "language_info": {
   "codemirror_mode": {
    "name": "ipython",
    "version": 3
   },
   "file_extension": ".py",
   "mimetype": "text/x-python",
   "name": "python",
   "nbconvert_exporter": "python",
   "pygments_lexer": "ipython3",
   "version": "3.10.8"
  }
 },
 "nbformat": 4,
 "nbformat_minor": 5
}
