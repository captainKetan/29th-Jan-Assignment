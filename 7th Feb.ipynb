{
 "cells": [
  {
   "cell_type": "markdown",
   "id": "0d755c3f-45b7-4042-bcf1-aafd7c726781",
   "metadata": {},
   "source": [
    "# Answer 1."
   ]
  },
  {
   "cell_type": "code",
   "execution_count": 6,
   "id": "66bf3671-2d90-4f22-ba2b-d86e8cd5827e",
   "metadata": {},
   "outputs": [
    {
     "name": "stdin",
     "output_type": "stream",
     "text": [
      "Enter password:  ABabcd1@.]\n"
     ]
    },
    {
     "data": {
      "text/plain": [
       "'Valid Password'"
      ]
     },
     "execution_count": 6,
     "metadata": {},
     "output_type": "execute_result"
    }
   ],
   "source": [
    "def pass_check(password):\n",
    "    final=[]\n",
    "    caps,low,num,sp=0,0,0,0\n",
    "    for i in password:\n",
    "        if ord(i) in range(65,91):#['A','B','C','D','E','F','G','H','I','J','K','L','M','N','O','P','Q','R','S','T','U','V','W','X','Y','Z']:\n",
    "            caps=caps+1\n",
    "        if ord(i) in range(97,123):#['a','b','c','d','e','f','g','h','i','j','k','l','m','n','o','p','q','r','s','t','u','v','w','x','y','z']:\n",
    "            low+=1\n",
    "        if ord(i) in range(48,58):#[0,1,2,3,4,5,6,7,8,9]:\n",
    "            num+=1\n",
    "        if ord(i) in range(32,48) or ord(i) in range(58,65) or ord(i) in range(91,97) or ord(i) in range(123,127):\n",
    "            sp+=1\n",
    "    if caps>=2 and low>=2 and num>=1 and sp==3 and len(password)==10:\n",
    "        return \"Valid Password\"\n",
    "    else:\n",
    "        return \"Invalid Password\"\n",
    "    \n",
    "    \n",
    "password=input(\"Enter password: \")\n",
    "pass_check(password)"
   ]
  },
  {
   "cell_type": "code",
   "execution_count": null,
   "id": "9f15ab9e-3e7d-4ab2-a8ae-5b2a0c7cc17e",
   "metadata": {},
   "outputs": [],
   "source": []
  },
  {
   "cell_type": "markdown",
   "id": "14137be2-9952-436f-a3bd-59a6390f1f8b",
   "metadata": {},
   "source": [
    "# Answer 2."
   ]
  },
  {
   "cell_type": "code",
   "execution_count": 17,
   "id": "0388dd34-7dba-4d54-80a3-d82879e7fcff",
   "metadata": {},
   "outputs": [
    {
     "name": "stdin",
     "output_type": "stream",
     "text": [
      "Enter string:  hello\n",
      "You want to check for which letter the string starts with:  h\n"
     ]
    },
    {
     "name": "stdout",
     "output_type": "stream",
     "text": [
      "True\n"
     ]
    }
   ],
   "source": [
    "# Program 1 \n",
    "string=input(\"Enter string: \")\n",
    "x=input(\"You want to check for which letter the string starts with: \")\n",
    "result=lambda string,x: string.startswith(x)\n",
    "print(result(string,x))"
   ]
  },
  {
   "cell_type": "code",
   "execution_count": 3,
   "id": "56ff2b76-e886-4e4a-bc7f-446d61ecddfa",
   "metadata": {},
   "outputs": [
    {
     "name": "stdin",
     "output_type": "stream",
     "text": [
      "Enter string:  1234\n"
     ]
    },
    {
     "name": "stdout",
     "output_type": "stream",
     "text": [
      "True\n"
     ]
    }
   ],
   "source": [
    "# Program 2\n",
    "string=input(\"Enter string: \")\n",
    "x=lambda s: s.isnumeric()\n",
    "print(x(string))"
   ]
  },
  {
   "cell_type": "code",
   "execution_count": 9,
   "id": "f3f2e4e3-bccc-467b-905e-323093a8a109",
   "metadata": {},
   "outputs": [
    {
     "name": "stdout",
     "output_type": "stream",
     "text": [
      "[('orange', 80), ('mango', 99), ('grapes', 1000)]\n",
      "[('grapes', 1000), ('mango', 99), ('orange', 80)]\n"
     ]
    }
   ],
   "source": [
    "# Program 3\n",
    "l=[(\"mango\",99),(\"orange\",80),(\"grapes\",1000)]\n",
    "l.sort(key=lambda x:x[1])\n",
    "print(l) # sort by name of fruit\n",
    "l.sort(key=lambda x:x[0])\n",
    "print(l) # sort by quantity of fruit"
   ]
  },
  {
   "cell_type": "code",
   "execution_count": 14,
   "id": "e4608b82-b42d-40a0-bd82-f6353283d81c",
   "metadata": {},
   "outputs": [
    {
     "data": {
      "text/plain": [
       "[1, 4, 9, 16, 25, 36, 49, 64, 81, 100]"
      ]
     },
     "execution_count": 14,
     "metadata": {},
     "output_type": "execute_result"
    }
   ],
   "source": [
    "# Program 4\n",
    "l=[1,2,3,4,5,6,7,8,9,10]\n",
    "list(map(lambda x:x**2,l))"
   ]
  },
  {
   "cell_type": "code",
   "execution_count": 18,
   "id": "9dac180b-c507-47af-a46e-ca1591b48ff3",
   "metadata": {},
   "outputs": [
    {
     "data": {
      "text/plain": [
       "[1.0,\n",
       " 1.2311444133449163,\n",
       " 1.3903891703159093,\n",
       " 1.515716566510398,\n",
       " 1.6206565966927624,\n",
       " 1.711769859409705,\n",
       " 1.792789962520997,\n",
       " 1.8660659830736148,\n",
       " 1.9331820449317627,\n",
       " 1.9952623149688795]"
      ]
     },
     "execution_count": 18,
     "metadata": {},
     "output_type": "execute_result"
    }
   ],
   "source": [
    "# Program 5\n",
    "list(map(lambda x: x**0.3, range(1,11)))"
   ]
  },
  {
   "cell_type": "code",
   "execution_count": 2,
   "id": "9894f51c-2764-40f0-b88c-5edcdad66b4e",
   "metadata": {},
   "outputs": [
    {
     "name": "stdin",
     "output_type": "stream",
     "text": [
      "Enter a number:  23\n"
     ]
    },
    {
     "name": "stdout",
     "output_type": "stream",
     "text": [
      "False\n"
     ]
    }
   ],
   "source": [
    "# Program 6\n",
    "num=int(input(\"Enter a number: \"))\n",
    "result=lambda num: True if num%2==0 else False\n",
    "print(result(num))"
   ]
  },
  {
   "cell_type": "code",
   "execution_count": 4,
   "id": "97c4af93-d46a-4107-b6af-73c43897ee48",
   "metadata": {},
   "outputs": [
    {
     "data": {
      "text/plain": [
       "[1, 3, 5, 7, 9]"
      ]
     },
     "execution_count": 4,
     "metadata": {},
     "output_type": "execute_result"
    }
   ],
   "source": [
    "# Program 7\n",
    "l=[1,2,3,4,5,6,7,8,9,10]\n",
    "list(filter(lambda x: x%2!=0, l))"
   ]
  },
  {
   "cell_type": "code",
   "execution_count": 6,
   "id": "b52c12da-e76c-4c0c-9150-583c57935dcb",
   "metadata": {},
   "outputs": [
    {
     "name": "stdout",
     "output_type": "stream",
     "text": [
      "[1, 2, 3, 4, 5, 6]\n",
      "[-1, -2, -3, -4, -5]\n"
     ]
    }
   ],
   "source": [
    "# Program 8\n",
    "list1=[1,2,3,4,5,6,-1,-2,-3,-4,-5,0]\n",
    "pos=list(filter(lambda x: x>0, list1))\n",
    "neg=list(filter(lambda x: x<0, list1))\n",
    "print(pos)\n",
    "print(neg)"
   ]
  },
  {
   "cell_type": "code",
   "execution_count": null,
   "id": "37f37640-2a40-4136-ad49-8ecf57c0a84e",
   "metadata": {},
   "outputs": [],
   "source": []
  }
 ],
 "metadata": {
  "kernelspec": {
   "display_name": "Python 3 (ipykernel)",
   "language": "python",
   "name": "python3"
  },
  "language_info": {
   "codemirror_mode": {
    "name": "ipython",
    "version": 3
   },
   "file_extension": ".py",
   "mimetype": "text/x-python",
   "name": "python",
   "nbconvert_exporter": "python",
   "pygments_lexer": "ipython3",
   "version": "3.10.6"
  }
 },
 "nbformat": 4,
 "nbformat_minor": 5
}
