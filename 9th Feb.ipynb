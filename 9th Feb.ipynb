{
 "cells": [
  {
   "cell_type": "markdown",
   "metadata": {},
   "source": [
    "# Answer 1"
   ]
  },
  {
   "cell_type": "code",
   "execution_count": 1,
   "metadata": {},
   "outputs": [
    {
     "name": "stdout",
     "output_type": "stream",
     "text": [
      "Car: Max Speed - 200 km/h, Average Speed - 60 km/h\n",
      "Bike: Max Speed - 80 km/h, Average Speed - 30 km/h\n"
     ]
    }
   ],
   "source": [
    "class Vehicle:\n",
    "    def __init__(self, name_of_vehicle, max_speed, average_speed):\n",
    "        self.name_of_vehicle = name_of_vehicle\n",
    "        self.max_speed = max_speed\n",
    "        self.average_speed = average_speed\n",
    "\n",
    "# Example usage:\n",
    "car = Vehicle(name_of_vehicle=\"Car\", max_speed=200, average_speed=60)\n",
    "bike = Vehicle(name_of_vehicle=\"Bike\", max_speed=80, average_speed=30)\n",
    "\n",
    "print(f\"{car.name_of_vehicle}: Max Speed - {car.max_speed} km/h, Average Speed - {car.average_speed} km/h\")\n",
    "print(f\"{bike.name_of_vehicle}: Max Speed - {bike.max_speed} km/h, Average Speed - {bike.average_speed} km/h\")"
   ]
  },
  {
   "cell_type": "markdown",
   "metadata": {},
   "source": []
  },
  {
   "cell_type": "markdown",
   "metadata": {},
   "source": [
    "# Answer 2"
   ]
  },
  {
   "cell_type": "code",
   "execution_count": 2,
   "metadata": {},
   "outputs": [
    {
     "name": "stdout",
     "output_type": "stream",
     "text": [
      "Sedan: Max Speed - 180 km/h, Average Speed - 70 km/h\n",
      "Sedan has a seating capacity of 5 people.\n"
     ]
    }
   ],
   "source": [
    "class Car(Vehicle):\n",
    "    def __init__(self, name_of_vehicle, max_speed, average_speed):\n",
    "        # Call the constructor of the parent class (Vehicle)\n",
    "        super().__init__(name_of_vehicle, max_speed, average_speed)\n",
    "\n",
    "    def seating_capacity(self, capacity):\n",
    "        return f\"{self.name_of_vehicle} has a seating capacity of {capacity} people.\"\n",
    "\n",
    "# Example usage:\n",
    "car_instance = Car(name_of_vehicle=\"Sedan\", max_speed=180, average_speed=70)\n",
    "print(f\"{car_instance.name_of_vehicle}: Max Speed - {car_instance.max_speed} km/h, Average Speed - {car_instance.average_speed} km/h\")\n",
    "print(car_instance.seating_capacity(5))"
   ]
  },
  {
   "cell_type": "markdown",
   "metadata": {},
   "source": []
  },
  {
   "cell_type": "markdown",
   "metadata": {},
   "source": [
    "# Answer 3"
   ]
  },
  {
   "cell_type": "markdown",
   "metadata": {},
   "source": [
    "Multiple inheritance is a concept in object-oriented programming where a class can inherit attributes and methods from more than one parent class. In Python, you can achieve multiple inheritance by specifying multiple parent classes in the class definition.\n",
    "\n",
    "In below this example, `HybridCar` is a class that inherits from both the `Engine` and `ElectricMotor` classes. As a result, an instance of `HybridCar` has access to methods from both parent classes (`start` and `stop` from `Engine`, and `charge` and `discharge` from `ElectricMotor`). This is an illustration of multiple inheritance in Python."
   ]
  },
  {
   "cell_type": "code",
   "execution_count": 3,
   "metadata": {},
   "outputs": [
    {
     "name": "stdout",
     "output_type": "stream",
     "text": [
      "Engine started.\n",
      "Electric motor charging.\n",
      "Hybrid car is driving.\n"
     ]
    }
   ],
   "source": [
    "class Engine:\n",
    "    def start(self):\n",
    "        return \"Engine started.\"\n",
    "\n",
    "    def stop(self):\n",
    "        return \"Engine stopped.\"\n",
    "\n",
    "class ElectricMotor:\n",
    "    def charge(self):\n",
    "        return \"Electric motor charging.\"\n",
    "\n",
    "    def discharge(self):\n",
    "        return \"Electric motor discharging.\"\n",
    "\n",
    "class HybridCar(Engine, ElectricMotor):\n",
    "    def drive(self):\n",
    "        return \"Hybrid car is driving.\"\n",
    "\n",
    "# Example usage:\n",
    "hybrid_car = HybridCar()\n",
    "print(hybrid_car.start())  # Inherited from Engine class\n",
    "print(hybrid_car.charge())  # Inherited from ElectricMotor class\n",
    "print(hybrid_car.drive())  # Inherited from HybridCar class"
   ]
  },
  {
   "cell_type": "markdown",
   "metadata": {},
   "source": []
  },
  {
   "cell_type": "markdown",
   "metadata": {},
   "source": [
    "# Answer 4"
   ]
  },
  {
   "cell_type": "markdown",
   "metadata": {},
   "source": [
    "Getter and setter methods are used in object-oriented programming to control access to the attributes of a class. They provide a way to retrieve (`get`) and modify (`set`) the values of private attributes, allowing for more controlled access and encapsulation.\n",
    "\n",
    "In below example, the `Person` class has private attributes `_name` and `_age`. Getter methods (`get_name` and `get_age`) are used to retrieve the values of these attributes, and setter methods (`set_name` and `set_age`) are used to modify these values. The use of getter and setter methods allows for controlled access to the attributes and validation if needed. Note that in Python, naming conventions are used to indicate the visibility of an attribute, and a single leading underscore (`_`) is commonly used to denote a protected attribute."
   ]
  },
  {
   "cell_type": "code",
   "execution_count": null,
   "metadata": {},
   "outputs": [],
   "source": [
    "class Person:\n",
    "    def __init__(self, name, age):\n",
    "        self._name = name  # Using a single underscore to indicate it as a protected attribute\n",
    "        self._age = age\n",
    "\n",
    "    # Getter method for 'name'\n",
    "    def get_name(self):\n",
    "        return self._name\n",
    "\n",
    "    # Setter method for 'name'\n",
    "    def set_name(self, new_name):\n",
    "        self._name = new_name\n",
    "\n",
    "    # Getter method for 'age'\n",
    "    def get_age(self):\n",
    "        return self._age\n",
    "\n",
    "    # Setter method for 'age'\n",
    "    def set_age(self, new_age):\n",
    "        if new_age > 0:\n",
    "            self._age = new_age\n",
    "        else:\n",
    "            print(\"Age must be a positive value.\")\n",
    "\n",
    "# Example usage:\n",
    "person = Person(name=\"John\", age=25)\n",
    "\n",
    "# Using getter methods\n",
    "print(\"Name:\", person.get_name())\n",
    "print(\"Age:\", person.get_age())\n",
    "\n",
    "# Using setter methods\n",
    "person.set_name(\"Alice\")\n",
    "person.set_age(30)\n",
    "\n",
    "# Displaying updated values using getter methods\n",
    "print(\"Updated Name:\", person.get_name())\n",
    "print(\"Updated Age:\", person.get_age())"
   ]
  },
  {
   "cell_type": "markdown",
   "metadata": {},
   "source": []
  },
  {
   "cell_type": "markdown",
   "metadata": {},
   "source": [
    "# Answer 5"
   ]
  },
  {
   "cell_type": "markdown",
   "metadata": {},
   "source": [
    "Method overriding in Python refers to the ability of a subclass to provide a specific implementation for a method that is already defined in its superclass. When a subclass defines a method with the same name as a method in its superclass, it overrides the behavior of that method in the superclass.\n",
    "\n",
    "In below example, there is a base class `Animal` with a method `speak`. The `Dog` and `Cat` classes are subclasses of `Animal` and override the `speak` method to provide their specific implementations. When an instance of `Dog` or `Cat` calls the `speak` method, it uses the overridden version defined in their respective classes. This allows for polymorphic behavior, where the same method name behaves differently based on the type of the object calling it."
   ]
  },
  {
   "cell_type": "code",
   "execution_count": 4,
   "metadata": {},
   "outputs": [
    {
     "name": "stdout",
     "output_type": "stream",
     "text": [
      "Animal speaks\n",
      "Dog barks\n",
      "Cat meows\n"
     ]
    }
   ],
   "source": [
    "class Animal:\n",
    "    def speak(self):\n",
    "        return \"Animal speaks\"\n",
    "\n",
    "class Dog(Animal):\n",
    "    def speak(self):\n",
    "        return \"Dog barks\"\n",
    "\n",
    "class Cat(Animal):\n",
    "    def speak(self):\n",
    "        return \"Cat meows\"\n",
    "\n",
    "# Example usage:\n",
    "animal = Animal()\n",
    "dog = Dog()\n",
    "cat = Cat()\n",
    "\n",
    "print(animal.speak())  # Output: Animal speaks\n",
    "print(dog.speak())     # Output: Dog barks (overrides speak method in Animal class)\n",
    "print(cat.speak())     # Output: Cat meows (overrides speak method in Animal class)"
   ]
  },
  {
   "cell_type": "code",
   "execution_count": null,
   "metadata": {},
   "outputs": [],
   "source": []
  }
 ],
 "metadata": {
  "kernelspec": {
   "display_name": "Python 3",
   "language": "python",
   "name": "python3"
  },
  "language_info": {
   "codemirror_mode": {
    "name": "ipython",
    "version": 3
   },
   "file_extension": ".py",
   "mimetype": "text/x-python",
   "name": "python",
   "nbconvert_exporter": "python",
   "pygments_lexer": "ipython3",
   "version": "3.11.1"
  }
 },
 "nbformat": 4,
 "nbformat_minor": 2
}
