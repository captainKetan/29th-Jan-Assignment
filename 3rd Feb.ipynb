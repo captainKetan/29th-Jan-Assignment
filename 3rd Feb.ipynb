{
 "cells": [
  {
   "cell_type": "markdown",
   "id": "1681e350-f93c-4059-94c9-ff8dd9ddf4c6",
   "metadata": {},
   "source": [
    "# Answer 1.\n",
    "def keyword is used to create functions"
   ]
  },
  {
   "cell_type": "code",
   "execution_count": 3,
   "id": "4e31aaa9-761d-44f9-b814-c45891a06c5c",
   "metadata": {},
   "outputs": [
    {
     "data": {
      "text/plain": [
       "[1, 3, 5, 7, 9, 11, 13, 15, 17, 19, 21, 23, 25]"
      ]
     },
     "execution_count": 3,
     "metadata": {},
     "output_type": "execute_result"
    }
   ],
   "source": [
    "def odd():\n",
    "    list1=[i for i in range(1,26) if i%2!=0]\n",
    "    return list1\n",
    "odd()"
   ]
  },
  {
   "cell_type": "code",
   "execution_count": null,
   "id": "642d2a7b-9016-4d9a-af0e-8867397c36f0",
   "metadata": {},
   "outputs": [],
   "source": []
  },
  {
   "cell_type": "markdown",
   "id": "1ab2bb1d-3493-45b3-a0f6-c287d15e7612",
   "metadata": {},
   "source": [
    "# Answer 2.\n",
    "*args and **kwargs are special syntax in Python that allows a function to accept a variable number of arguments.\n",
    "*args is used to pass a variable number of arguments to a function. The arguments are then stored in a tuple."
   ]
  },
  {
   "cell_type": "code",
   "execution_count": 4,
   "id": "4006838d-031a-4f85-aea7-17b4f1ebc9ed",
   "metadata": {},
   "outputs": [
    {
     "data": {
      "text/plain": [
       "15"
      ]
     },
     "execution_count": 4,
     "metadata": {},
     "output_type": "execute_result"
    }
   ],
   "source": [
    "#example of *args\n",
    "def sum_numbers(*args):\n",
    "    total = 0\n",
    "    for num in args:\n",
    "        total += num\n",
    "    return total\n",
    "sum_numbers(1,2,3,4,5)"
   ]
  },
  {
   "cell_type": "markdown",
   "id": "459b5c81-0204-4b8d-a766-e7df1085dcdc",
   "metadata": {},
   "source": [
    "**kwargs is used to pass a n number of arguments to a function. It puts the arguments in a dictionary."
   ]
  },
  {
   "cell_type": "code",
   "execution_count": 6,
   "id": "f5f36079-6a19-4de8-87b5-d1b6b202e117",
   "metadata": {},
   "outputs": [
    {
     "name": "stdout",
     "output_type": "stream",
     "text": [
      "a: 1\n",
      "b: 2\n",
      "c: hello\n"
     ]
    }
   ],
   "source": [
    "#example of **kwargs\n",
    "def print_values(**kwargs):\n",
    "    for key, value in kwargs.items():\n",
    "        print(f\"{key}: {value}\")\n",
    "print_values(a=1,b=2,c='hello')"
   ]
  },
  {
   "cell_type": "code",
   "execution_count": null,
   "id": "952807db-42da-4565-a02a-edb947c8443d",
   "metadata": {},
   "outputs": [],
   "source": []
  },
  {
   "cell_type": "markdown",
   "id": "623c4183-0bd7-4157-ac5c-41b689b64127",
   "metadata": {},
   "source": [
    "# Answer 3.\n",
    "In Python, an iterator is an object that can be iterated upon. It is used to represent a sequence of values and provides a way to access these values one at a time. The iter() function used to initialize an iterator and it takes an iterable as an argument. The next() function is used to access elements of iterator."
   ]
  },
  {
   "cell_type": "code",
   "execution_count": 10,
   "id": "73d77fc1-2e63-45a0-ad51-4fd7b874ea53",
   "metadata": {},
   "outputs": [
    {
     "name": "stdout",
     "output_type": "stream",
     "text": [
      "2\n",
      "4\n",
      "6\n",
      "8\n",
      "10\n"
     ]
    }
   ],
   "source": [
    "l=[2,4,6,8,10,12,14,16,18,20]\n",
    "list_iter=iter(l)\n",
    "for i in range(5):\n",
    "    print(next(list_iter))"
   ]
  },
  {
   "cell_type": "code",
   "execution_count": null,
   "id": "a82a8283-6153-44c0-aa28-33db2a7a61a0",
   "metadata": {},
   "outputs": [],
   "source": []
  },
  {
   "cell_type": "markdown",
   "id": "fb31cc08-e893-4f8a-8f93-5fde43219675",
   "metadata": {},
   "source": [
    "# Answer 4.\n",
    "A generator function in Python allows you to create an iterator object. It generates values one by one instead of returning them all at once like a regular function. This helps in optimizing the memory management.\n"
   ]
  },
  {
   "cell_type": "code",
   "execution_count": 9,
   "id": "7fefbc3f-5c00-4764-bb81-909fdb94a256",
   "metadata": {},
   "outputs": [
    {
     "name": "stdout",
     "output_type": "stream",
     "text": [
      "0\n",
      "1\n",
      "4\n",
      "9\n",
      "16\n"
     ]
    }
   ],
   "source": [
    "def gen(n):\n",
    "    for i in range(n):\n",
    "        yield i**2\n",
    "obj=gen(5)\n",
    "for i in obj:\n",
    "    print(i)"
   ]
  },
  {
   "cell_type": "code",
   "execution_count": null,
   "id": "ad0fc15e-f869-40a8-892e-aa289d6a2452",
   "metadata": {},
   "outputs": [],
   "source": []
  },
  {
   "cell_type": "markdown",
   "id": "beb98dc5-6ad1-4237-9b38-1dc7507ebb76",
   "metadata": {},
   "source": [
    "# Answer 5."
   ]
  },
  {
   "cell_type": "code",
   "execution_count": 1,
   "id": "7544007b-4ba4-496e-96a6-45a92c9a5e7a",
   "metadata": {},
   "outputs": [
    {
     "name": "stdout",
     "output_type": "stream",
     "text": [
      "2\n",
      "3\n",
      "5\n",
      "7\n",
      "11\n",
      "13\n",
      "17\n",
      "19\n",
      "23\n",
      "29\n",
      "31\n",
      "37\n",
      "41\n",
      "43\n",
      "47\n",
      "53\n",
      "59\n",
      "61\n",
      "67\n",
      "71\n"
     ]
    }
   ],
   "source": [
    "def prime(n):\n",
    "    i=2\n",
    "    while i<=n:\n",
    "        j=2\n",
    "        l=[]\n",
    "        while j<=i//2:\n",
    "            if i%j==0:\n",
    "                l.append(False)\n",
    "                break\n",
    "            else:\n",
    "                l.append(True)\n",
    "            j+=1\n",
    "        if all(l):\n",
    "            yield i\n",
    "        i+=1\n",
    "                \n",
    "nums=prime(1000)\n",
    "for i in range(1,21):\n",
    "    print(next(nums))"
   ]
  },
  {
   "cell_type": "code",
   "execution_count": null,
   "id": "ada932ed-45f8-4288-9ba7-be4f498f2f5d",
   "metadata": {},
   "outputs": [],
   "source": []
  },
  {
   "cell_type": "markdown",
   "id": "4f418e7b-1f7d-40d1-9a62-bbc2c9ee3b90",
   "metadata": {},
   "source": [
    "# Answer 6."
   ]
  },
  {
   "cell_type": "code",
   "execution_count": 3,
   "id": "68f267c0-3a08-4ac8-8c52-dcdb3fd5da9b",
   "metadata": {},
   "outputs": [
    {
     "name": "stdout",
     "output_type": "stream",
     "text": [
      "0\n",
      "1\n",
      "1\n",
      "2\n",
      "3\n",
      "5\n",
      "8\n",
      "13\n",
      "21\n",
      "34\n"
     ]
    }
   ],
   "source": [
    "n=1\n",
    "first,second=0,1\n",
    "count=0\n",
    "print(str(first)+\"\\n\"+str(second))\n",
    "while(n<9):\n",
    "    next=first+second\n",
    "    print(next)\n",
    "    first=second\n",
    "    second=next\n",
    "    n+=1  "
   ]
  },
  {
   "cell_type": "code",
   "execution_count": null,
   "id": "efb91792-6aa8-4845-9f7c-c38d42f105cf",
   "metadata": {},
   "outputs": [],
   "source": []
  },
  {
   "cell_type": "markdown",
   "id": "455e2af8-9e4b-44c9-9662-6005a4492aea",
   "metadata": {},
   "source": [
    "# Answer 7."
   ]
  },
  {
   "cell_type": "code",
   "execution_count": 5,
   "id": "8ade0d0e-0ce7-4c6b-8367-f164035702c8",
   "metadata": {},
   "outputs": [
    {
     "name": "stdout",
     "output_type": "stream",
     "text": [
      "['p', 'w', 's', 'k', 'i', 'l', 'l', 's']\n"
     ]
    }
   ],
   "source": [
    "str='pwskills'\n",
    "list1=[x for x in str]\n",
    "print(list1)"
   ]
  },
  {
   "cell_type": "code",
   "execution_count": null,
   "id": "fe3c6453-32a1-42c2-8cef-ca6d93e93df7",
   "metadata": {},
   "outputs": [],
   "source": []
  },
  {
   "cell_type": "markdown",
   "id": "ed5ccf12-e5c2-4e9e-96cf-cb3404c7cedd",
   "metadata": {},
   "source": [
    "# Answer 8."
   ]
  },
  {
   "cell_type": "code",
   "execution_count": 1,
   "id": "169f275f-843d-4772-a5bf-4e4e941cd51c",
   "metadata": {},
   "outputs": [
    {
     "name": "stdin",
     "output_type": "stream",
     "text": [
      "Enter data:  malayalam\n"
     ]
    },
    {
     "name": "stdout",
     "output_type": "stream",
     "text": [
      "This is a palindrome\n"
     ]
    }
   ],
   "source": [
    "data=input(\"Enter data: \")\n",
    "flags=[False]\n",
    "while(True):\n",
    "    if len(data)%2!=0:\n",
    "        mid=int((len(data)-1)/2)\n",
    "        for i in range(0,mid):\n",
    "            if data[i]==data[-i-1]:\n",
    "                flags.pop()\n",
    "                flags.append(True)\n",
    "        if all(flags):\n",
    "            print(\"This is a palindrome\")\n",
    "        else:\n",
    "            print(\"This is not a palindrome\")\n",
    "        break\n",
    "    \n",
    "    else:\n",
    "        mid=int((len(data))/2)\n",
    "        for i in range(0,mid):\n",
    "            if data[i]==data[-i-1]:\n",
    "                flags.pop()\n",
    "                flags.append(True)\n",
    "        if all(flags):\n",
    "            print(\"This is a palindrome\")\n",
    "        else:\n",
    "            print(\"This is not a palindrome\")\n",
    "        break"
   ]
  },
  {
   "cell_type": "code",
   "execution_count": null,
   "id": "3656f991-29dc-4226-878d-11e4201b1ca0",
   "metadata": {},
   "outputs": [],
   "source": []
  },
  {
   "cell_type": "markdown",
   "id": "4ee0fab2-763e-487c-9ad8-e918b7b26fe5",
   "metadata": {},
   "source": [
    "# Answer 9."
   ]
  },
  {
   "cell_type": "code",
   "execution_count": 2,
   "id": "24999202-2e39-4e9b-9336-096cbf9a9307",
   "metadata": {},
   "outputs": [
    {
     "name": "stdout",
     "output_type": "stream",
     "text": [
      "[1, 3, 5, 7, 9, 11, 13, 15, 17, 19, 21, 23, 25, 27, 29, 31, 33, 35, 37, 39, 41, 43, 45, 47, 49, 51, 53, 55, 57, 59, 61, 63, 65, 67, 69, 71, 73, 75, 77, 79, 81, 83, 85, 87, 89, 91, 93, 95, 97, 99]\n"
     ]
    }
   ],
   "source": [
    "list1=[i for i in range(1,101)]\n",
    "list2=[x for x in list1 if x%2!=0]\n",
    "print(list2)"
   ]
  },
  {
   "cell_type": "code",
   "execution_count": null,
   "id": "476ea12e-973a-4515-aaa2-5b12da667575",
   "metadata": {},
   "outputs": [],
   "source": []
  }
 ],
 "metadata": {
  "kernelspec": {
   "display_name": "Python 3 (ipykernel)",
   "language": "python",
   "name": "python3"
  },
  "language_info": {
   "codemirror_mode": {
    "name": "ipython",
    "version": 3
   },
   "file_extension": ".py",
   "mimetype": "text/x-python",
   "name": "python",
   "nbconvert_exporter": "python",
   "pygments_lexer": "ipython3",
   "version": "3.10.6"
  }
 },
 "nbformat": 4,
 "nbformat_minor": 5
}
