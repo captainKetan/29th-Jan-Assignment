{
 "cells": [
  {
   "cell_type": "markdown",
   "id": "6feabca8-9a74-407d-aa2d-8fec6585e745",
   "metadata": {},
   "source": [
    "# Answer 1."
   ]
  },
  {
   "cell_type": "code",
   "execution_count": 1,
   "id": "750fcb27-c8a1-45f5-9ff8-970ffaeb81e9",
   "metadata": {},
   "outputs": [
    {
     "name": "stdout",
     "output_type": "stream",
     "text": [
      "15\n",
      "Hello, world!\n",
      "Hello, world!\n",
      "Hello, world!\n",
      "Hello, world!\n",
      "Hello, world!\n"
     ]
    },
    {
     "name": "stdin",
     "output_type": "stream",
     "text": [
      "Enter a positive integer:  5\n"
     ]
    },
    {
     "name": "stdout",
     "output_type": "stream",
     "text": [
      "You entered: 5\n"
     ]
    },
    {
     "name": "stdin",
     "output_type": "stream",
     "text": [
      "Enter a command:  quit\n"
     ]
    }
   ],
   "source": [
    "# When to use a for loop:\n",
    "\n",
    "'''When you need to iterate over a collection of items, such as a list or an array. \n",
    "For loops are especially useful when you need to perform the same operation on every item in the collection. For example:'''\n",
    "# Example 1: Summing up all the elements of a list using a for loop\n",
    "numbers = [1, 2, 3, 4, 5]\n",
    "sum = 0\n",
    "for num in numbers:\n",
    "    sum += num\n",
    "print(sum)\n",
    "\n",
    "# Output: 15\n",
    "'''When you need to repeat a block of code a fixed number of times. For loops are particularly \n",
    "useful when you need to execute a block of code a specific number of times. For example:'''\n",
    "# Example 2: Printing a message 5 times using a for loop\n",
    "for i in range(5):\n",
    "    print(\"Hello, world!\")\n",
    "\n",
    "# Output:\n",
    "# Hello, world!\n",
    "# Hello, world!\n",
    "# Hello, world!\n",
    "# Hello, world!\n",
    "# Hello, world!\n",
    "\n",
    "\n",
    "# When to use a while loop:\n",
    "\n",
    "'''When you need to repeat a block of code until a certain condition is met. While loops are useful \n",
    "when you need to execute a block of code repeatedly as long as a certain condition is true. For example:'''\n",
    "# Example 3: Repeating a block of code until the user enters a valid input using a while loop\n",
    "num = 0\n",
    "while num <= 0:\n",
    "    num = int(input(\"Enter a positive integer: \"))\n",
    "print(\"You entered:\", num)\n",
    "\n",
    "# Output:\n",
    "# Enter a positive integer: -1\n",
    "# Enter a positive integer: 0\n",
    "# Enter a positive integer: 5\n",
    "# You entered: 5\n",
    "'''When you need to execute a block of code indefinitely until a certain condition is met. While loops are also \n",
    "useful when you need to execute a block of code indefinitely until a certain condition is met. For example:'''\n",
    "# Example 4: Executing a block of code indefinitely until the user enters \"quit\" using a while loop\n",
    "while True:\n",
    "    command = input(\"Enter a command: \")\n",
    "    if command == \"quit\":\n",
    "        break\n",
    "    print(\"Executing command:\", command)\n",
    "\n",
    "# Output:\n",
    "# Enter a command: print \"Hello, world!\"\n",
    "# Executing command: print \"Hello, world!\"\n",
    "# Enter a command: save file.txt\n",
    "# Executing command: save file.txt\n",
    "# Enter a command: quit"
   ]
  },
  {
   "cell_type": "code",
   "execution_count": null,
   "id": "f4944981-2135-4a2b-b050-7b20f2600267",
   "metadata": {},
   "outputs": [],
   "source": []
  },
  {
   "cell_type": "markdown",
   "id": "b9253bd7-8cb6-4379-b208-f0d44aa7fbd6",
   "metadata": {},
   "source": [
    "# Answer 2."
   ]
  },
  {
   "cell_type": "code",
   "execution_count": 1,
   "id": "33c65533-95e1-41b0-9e4e-3c04012450c5",
   "metadata": {},
   "outputs": [
    {
     "name": "stdout",
     "output_type": "stream",
     "text": [
      "Sum using for loop:  55\n"
     ]
    }
   ],
   "source": [
    "n=10\n",
    "sum1=0;\n",
    "for x in range(n+1):\n",
    "    sum1=sum1+x\n",
    "print(\"Sum using for loop: \",sum1)"
   ]
  },
  {
   "cell_type": "code",
   "execution_count": 2,
   "id": "11a3bb22-94fe-4388-bdea-66aa6077e4a2",
   "metadata": {},
   "outputs": [
    {
     "name": "stdout",
     "output_type": "stream",
     "text": [
      "Sum using while loop:  55\n"
     ]
    }
   ],
   "source": [
    "sum2=0\n",
    "while(n>0):\n",
    "    sum2=sum2+n\n",
    "    n-=1\n",
    "print(\"Sum using while loop: \",sum2)"
   ]
  },
  {
   "cell_type": "code",
   "execution_count": 3,
   "id": "7c4c239a-4374-4cf1-9320-872b11babf5e",
   "metadata": {},
   "outputs": [
    {
     "name": "stdout",
     "output_type": "stream",
     "text": [
      "Product using for loop:  3628800\n"
     ]
    }
   ],
   "source": [
    "n=10\n",
    "prod1=1\n",
    "for x in range(1,n+1):\n",
    "    prod1=prod1*x\n",
    "print(\"Product using for loop: \",prod1)"
   ]
  },
  {
   "cell_type": "code",
   "execution_count": 4,
   "id": "44015ac7-13e7-4e00-864a-6a1fe7b3f721",
   "metadata": {},
   "outputs": [
    {
     "name": "stdout",
     "output_type": "stream",
     "text": [
      "Product using while loop:  3628800\n"
     ]
    }
   ],
   "source": [
    "prod2=1\n",
    "while(n>0):\n",
    "    prod2=prod2*n\n",
    "    n-=1\n",
    "print(\"Product using while loop: \",prod2)"
   ]
  },
  {
   "cell_type": "code",
   "execution_count": null,
   "id": "a312ac83-8cdd-40ec-9ce5-3cc43281a947",
   "metadata": {},
   "outputs": [],
   "source": []
  },
  {
   "cell_type": "markdown",
   "id": "fa2d84b5-fe67-4431-824e-741e5a8bd8fa",
   "metadata": {},
   "source": [
    "# Answer 3."
   ]
  },
  {
   "cell_type": "code",
   "execution_count": 6,
   "id": "1db1637a-804e-4019-9109-1ba84ba2694f",
   "metadata": {},
   "outputs": [
    {
     "name": "stdin",
     "output_type": "stream",
     "text": [
      "Enter the units consumption:  310\n"
     ]
    },
    {
     "name": "stdout",
     "output_type": "stream",
     "text": [
      "Bill is:  2250.0\n"
     ]
    }
   ],
   "source": [
    "units=int(input(\"Enter the units consumption: \"))\n",
    "price=0\n",
    "if units<=100:\n",
    "    price=units*4.5\n",
    "    print(\"Bill is: \",price)\n",
    "elif units>100 and units<=200:\n",
    "    price=100*4.5 + (units-100)*6\n",
    "    print(\"Bill is: \",price)\n",
    "elif units>200 and units<=300:\n",
    "    price=100*4.5+100*6+(units-200)*10\n",
    "    print(\"Bill is: \",price)\n",
    "else:\n",
    "    price=100*4.5+100*6+100*10+(units-300)*20\n",
    "    print(\"Bill is: \",price)"
   ]
  },
  {
   "cell_type": "code",
   "execution_count": null,
   "id": "3ee46aae-ae99-46fe-a396-b5c5fb1fd180",
   "metadata": {},
   "outputs": [],
   "source": []
  },
  {
   "cell_type": "markdown",
   "id": "bd95eb7b-9243-4396-82d0-187e7f2d189c",
   "metadata": {},
   "source": [
    "# Answer 4."
   ]
  },
  {
   "cell_type": "code",
   "execution_count": 7,
   "id": "7c6d9139-e1ae-48a2-be19-518332061d10",
   "metadata": {},
   "outputs": [
    {
     "name": "stdout",
     "output_type": "stream",
     "text": [
      "Using for loop\n",
      "[2, 4, 5, 6, 8, 10, 12, 14, 15, 16, 18, 20, 22, 24, 25, 26, 28, 30, 32, 34, 35, 36, 38, 40, 42, 44, 45, 46, 48, 50, 52, 54, 55, 56, 58, 60, 62, 64, 65, 66, 68, 70, 72, 74, 75, 76, 78, 80, 82, 84, 85, 86, 88, 90, 92, 94, 95, 96, 98, 100]\n"
     ]
    }
   ],
   "source": [
    "print(\"Using for loop\")\n",
    "list=[]\n",
    "for x in range(1,101):\n",
    "    list.append(x)\n",
    "list1=[]\n",
    "list_new1=[]\n",
    "for x in list:\n",
    "    list1.append(x**3)\n",
    "    if (x**3)%4==0 or (x**3)%5==0:\n",
    "        list_new1.append(x)\n",
    "print(list_new1)"
   ]
  },
  {
   "cell_type": "code",
   "execution_count": 9,
   "id": "62ec2e73-8453-4e08-96e9-37f04413c559",
   "metadata": {},
   "outputs": [
    {
     "name": "stdout",
     "output_type": "stream",
     "text": [
      "Using while loop\n",
      "[2, 4, 5, 6, 8, 10, 12, 14, 15, 16, 18, 20, 22, 24, 25, 26, 28, 30, 32, 34, 35, 36, 38, 40, 42, 44, 45, 46, 48, 50, 52, 54, 55, 56, 58, 60, 62, 64, 65, 66, 68, 70, 72, 74, 75, 76, 78, 80, 82, 84, 85, 86, 88, 90, 92, 94, 95, 96, 98, 100]\n"
     ]
    }
   ],
   "source": [
    "print(\"Using while loop\")\n",
    "list2=[]\n",
    "list_new2=[]\n",
    "i=0\n",
    "while(i<len(list)):\n",
    "    list2.append(list[i]**3)\n",
    "    if (list[i]**3)%4==0 or (list[i]**3)%5==0:\n",
    "        list_new2.append(list[i])\n",
    "    i=i+1\n",
    "print(list_new2)"
   ]
  },
  {
   "cell_type": "code",
   "execution_count": null,
   "id": "50d7d943-3db1-4513-886a-32bd216b2ebc",
   "metadata": {},
   "outputs": [],
   "source": []
  },
  {
   "cell_type": "markdown",
   "id": "f911fbfe-dad8-48a1-82b7-6e43d01d2af0",
   "metadata": {},
   "source": [
    "# Answer 5."
   ]
  },
  {
   "cell_type": "code",
   "execution_count": 7,
   "id": "a0aeac1d-5383-40d3-9fa1-c3705bb0f7e6",
   "metadata": {},
   "outputs": [
    {
     "name": "stdout",
     "output_type": "stream",
     "text": [
      "Number of times vowels appear:  11\n",
      "Total vowels used out of 5:  4\n"
     ]
    }
   ],
   "source": [
    "str='I want to become a data scientist'\n",
    "count=0\n",
    "list=['a','e','i','o','u']\n",
    "vowel=[]\n",
    "for i in str:\n",
    "    for j in list:\n",
    "        if i==j:            \n",
    "            vowel.append(i)\n",
    "print(\"Number of times vowels appear: \",len(vowel))\n",
    "print(\"Total vowels used out of 5: \",len(set(vowel)))"
   ]
  },
  {
   "cell_type": "code",
   "execution_count": null,
   "id": "333fabc3-da2b-4808-8536-d14d64c8fe28",
   "metadata": {},
   "outputs": [],
   "source": []
  }
 ],
 "metadata": {
  "kernelspec": {
   "display_name": "Python 3 (ipykernel)",
   "language": "python",
   "name": "python3"
  },
  "language_info": {
   "codemirror_mode": {
    "name": "ipython",
    "version": 3
   },
   "file_extension": ".py",
   "mimetype": "text/x-python",
   "name": "python",
   "nbconvert_exporter": "python",
   "pygments_lexer": "ipython3",
   "version": "3.10.6"
  }
 },
 "nbformat": 4,
 "nbformat_minor": 5
}
