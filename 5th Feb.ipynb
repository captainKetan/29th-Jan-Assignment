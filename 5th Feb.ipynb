{
 "cells": [
  {
   "cell_type": "markdown",
   "id": "b0c09aec-af55-432f-be09-899d7f78187f",
   "metadata": {},
   "source": [
    "# Answer 1."
   ]
  },
  {
   "cell_type": "markdown",
   "id": "e5413ffc-7f87-4a9b-b73c-78774d137f34",
   "metadata": {},
   "source": [
    "In Object-Oriented Programming (OOP), a class is a blueprint or template that defines the attributes and behavior of a particular type of object. An object is an instance of a class, which means that it is a specific instance of the type of object defined by the class.\n",
    "\n",
    "To put it simply, a class is like a recipe, while an object is like a cake that you make from that recipe. The class provides the instructions for creating objects, while the objects are the actual instances of the class that you can interact with.\n",
    "\n",
    "Here is an example of a simple class and object:"
   ]
  },
  {
   "cell_type": "code",
   "execution_count": 13,
   "id": "c9976476-8e54-4ced-b99b-0fadfdcb384d",
   "metadata": {},
   "outputs": [],
   "source": [
    "#creating a class car\n",
    "class car:\n",
    "    def __init__(self,name,model,year,fuel):\n",
    "        self.name=name\n",
    "        self.model=model\n",
    "        self.year=year\n",
    "        self.fuel=fuel\n",
    "    def display(self):\n",
    "        return self.name, self.model, self.year, self.fuel\n",
    "\n",
    "#creating an object of the class car\n",
    "new=car('Audi','A4',2016,'Diesel')"
   ]
  },
  {
   "cell_type": "code",
   "execution_count": 14,
   "id": "949f8668-d80a-4c55-993d-45541f00a905",
   "metadata": {},
   "outputs": [
    {
     "data": {
      "text/plain": [
       "('Audi', 'A4', 2016, 'Diesel')"
      ]
     },
     "execution_count": 14,
     "metadata": {},
     "output_type": "execute_result"
    }
   ],
   "source": [
    "#accessing the class method 'display' to display the information of the object\n",
    "new.display()"
   ]
  },
  {
   "cell_type": "code",
   "execution_count": null,
   "id": "ace1632c-0733-4fac-a679-1ba55a5f3bca",
   "metadata": {},
   "outputs": [],
   "source": []
  },
  {
   "cell_type": "markdown",
   "id": "713a55a6-6186-4592-8524-64c4cd1d08b1",
   "metadata": {},
   "source": [
    "# Answer 2."
   ]
  },
  {
   "cell_type": "markdown",
   "id": "03abc959-f345-4a2e-b8db-70c6b521f5e4",
   "metadata": {},
   "source": [
    "The four pillars of Object-Oriented Programming (OOP) are:\n",
    "\n",
    "1.Encapsulation: The process of hiding data and implementation details within a class, so that the object's internal state cannot be modified directly by other parts of the program. Instead, the class provides a well-defined interface that allows users to interact with object's attributes in a controlled manner.\n",
    "\n",
    "2.Abstraction: The process of creating abstract classes or interfaces that define a set of methods or properties that can be used by other classes, without revealing the underlying implementation details. Abstraction allows programmers to create complex systems by breaking them down into smaller, more manageable pieces.\n",
    "\n",
    "3.Inheritance: The process of creating new classes that are based on existing classes, and inherit their properties and methods. Inheritance allows programmers to reuse code and to create more specialized classes that share common functionality with their parent classes.\n",
    "\n",
    "4.Polymorphism: The ability of objects to take on multiple forms or types, depending on the context in which they are used. Polymorphism allows programmers to write code that can work with different types of objects, without having to know their specific type at compile time. This makes code more flexible and adaptable to changing requirements."
   ]
  },
  {
   "cell_type": "code",
   "execution_count": null,
   "id": "be838258-ee8a-4065-afe3-3a269099eb6e",
   "metadata": {},
   "outputs": [],
   "source": []
  },
  {
   "cell_type": "markdown",
   "id": "f5d1c5fa-a7ee-4b0f-a76a-93ba6c0ed9cb",
   "metadata": {},
   "source": [
    "# Answer 3."
   ]
  },
  {
   "cell_type": "markdown",
   "id": "218183eb-29e7-458d-a483-6add5cd624bc",
   "metadata": {},
   "source": [
    "In Python, the __init__() function is a special method that is called automatically when an object of a class is created. It is used to initialize the attributes or properties of the object. The __init__() method is commonly used to set default values for object properties or to accept arguments that will be used to set object properties during object creation.\n",
    "Example:-"
   ]
  },
  {
   "cell_type": "code",
   "execution_count": 3,
   "id": "33c1dc85-8927-4ed6-9e84-e5825366e447",
   "metadata": {},
   "outputs": [],
   "source": [
    "class car:\n",
    "    def __init__(self, model, year, fuel):\n",
    "        self.model = model\n",
    "        self.year = year\n",
    "        self.fuel = fuel\n",
    "    \n",
    "    def description(self):\n",
    "        print(f\"This car's model is {self.model}, year {self.year} and runs on {self.fuel}.\")\n",
    "\n",
    "audi=car('A4',2016,'Diesel')"
   ]
  },
  {
   "cell_type": "code",
   "execution_count": 4,
   "id": "359ce99f-33a3-4a5b-bb4a-a55c16b023ad",
   "metadata": {},
   "outputs": [
    {
     "name": "stdout",
     "output_type": "stream",
     "text": [
      "This car's model is A4, year 2016 and runs on Diesel.\n"
     ]
    }
   ],
   "source": [
    "audi.description()"
   ]
  },
  {
   "cell_type": "code",
   "execution_count": null,
   "id": "ae46036b-61f9-4d1f-8bd1-5c0fd975c800",
   "metadata": {},
   "outputs": [],
   "source": []
  },
  {
   "cell_type": "markdown",
   "id": "43a6355a-c9d9-4bfe-92ec-2f44c6126b69",
   "metadata": {},
   "source": [
    "# Answer 4."
   ]
  },
  {
   "cell_type": "markdown",
   "id": "20f8b210-4134-4a80-a4eb-b49452efc509",
   "metadata": {},
   "source": [
    "In Object-Oriented Programming (OOP), self is a reference to the instance of a class that is currently being manipulated. It is a convention in Python to use the name self for this reference. When you create an object from a class, that object is an instance of the class. Any methods of the class that are called on that object must have a reference to the instance so that they can access its properties and methods. This is where self comes in. Using self as a parameter in a method definition allows you to access the properties and methods of the instance that the method is being called on. self is not a reserved keyword to be used as a pointer. We can write any name as per our convenience."
   ]
  },
  {
   "cell_type": "code",
   "execution_count": null,
   "id": "3b694daf-d2e6-491c-9750-e3a18a61bb5d",
   "metadata": {},
   "outputs": [],
   "source": []
  },
  {
   "cell_type": "markdown",
   "id": "096136de-46e2-45a0-90b8-524f03eaeb81",
   "metadata": {},
   "source": [
    "# Answer 5."
   ]
  },
  {
   "cell_type": "markdown",
   "id": "293068d4-3076-49cc-9f3f-f896d8034395",
   "metadata": {},
   "source": [
    "Inheritance is a fundamental concept in Object-Oriented Programming (OOP) that allows a class to inherit properties and methods from another class. The class that inherits from another class is called the derived class, while the class that is being inherited from is called the base class or superclass.\n",
    "\n",
    "Python supports three types of inheritance:\n",
    "\n",
    "1.Single Inheritance: In this type of inheritance, a derived class inherits from a single base class. This is the simplest form of inheritance. Example is:-"
   ]
  },
  {
   "cell_type": "code",
   "execution_count": 5,
   "id": "6d137fa9-a419-4424-900f-0afee756a203",
   "metadata": {},
   "outputs": [
    {
     "name": "stdout",
     "output_type": "stream",
     "text": [
      "Hello\n"
     ]
    }
   ],
   "source": [
    "class abc:\n",
    "    def display(self):\n",
    "        print(\"Hello\")\n",
    "class pqr(abc):\n",
    "    pass\n",
    "obj=pqr()\n",
    "obj.display()"
   ]
  },
  {
   "cell_type": "markdown",
   "id": "d0475eee-3ced-4059-bbff-3e5456e87a03",
   "metadata": {},
   "source": [
    "2.Multiple Inheritance: In this type of inheritance, a derived class inherits from multiple base classes. Example is:-"
   ]
  },
  {
   "cell_type": "code",
   "execution_count": 7,
   "id": "15287c33-b9f9-4e72-9d9a-3062237af60f",
   "metadata": {},
   "outputs": [],
   "source": [
    "class abc:\n",
    "    def display(self):\n",
    "        print(\"Hello class abc\")\n",
    "class pqr:\n",
    "    def show(self):\n",
    "        print(\"hello class pqr\")\n",
    "class xyz(abc,pqr):\n",
    "    pass\n",
    "obj=xyz()"
   ]
  },
  {
   "cell_type": "code",
   "execution_count": 8,
   "id": "3396a2d4-daa2-46be-b014-cc3fb8e87010",
   "metadata": {},
   "outputs": [
    {
     "name": "stdout",
     "output_type": "stream",
     "text": [
      "Hello class abc\n"
     ]
    }
   ],
   "source": [
    "obj.display()"
   ]
  },
  {
   "cell_type": "code",
   "execution_count": 9,
   "id": "ccae1756-0f72-4447-90dc-4b151b82e4ea",
   "metadata": {},
   "outputs": [
    {
     "name": "stdout",
     "output_type": "stream",
     "text": [
      "hello class pqr\n"
     ]
    }
   ],
   "source": [
    "obj.show()"
   ]
  },
  {
   "cell_type": "markdown",
   "id": "62664c9c-e9dc-4a08-96d5-d8364c6e1ace",
   "metadata": {},
   "source": [
    "3.Multilevel Inheritance: In this type of inheritance, a derived class inherits from a base class, which in turn inherits from another base class."
   ]
  },
  {
   "cell_type": "code",
   "execution_count": 10,
   "id": "cd04a7d3-e606-449f-8e41-5fcb6661f11a",
   "metadata": {},
   "outputs": [],
   "source": [
    "class a:\n",
    "    def disp(self):\n",
    "        print(\"This is from class a\")\n",
    "class b(a):\n",
    "    def show(self):\n",
    "        print(\"This is from class b\")\n",
    "class c(b):\n",
    "    pass\n",
    "obj=c()"
   ]
  },
  {
   "cell_type": "code",
   "execution_count": 11,
   "id": "d0e42b65-3dff-4a07-8a03-ad5fe0ea05d7",
   "metadata": {},
   "outputs": [
    {
     "name": "stdout",
     "output_type": "stream",
     "text": [
      "This is from class a\n"
     ]
    }
   ],
   "source": [
    "obj.disp()"
   ]
  },
  {
   "cell_type": "code",
   "execution_count": 12,
   "id": "a291b035-d7ca-455c-8474-04388bd075d5",
   "metadata": {},
   "outputs": [
    {
     "name": "stdout",
     "output_type": "stream",
     "text": [
      "This is from class b\n"
     ]
    }
   ],
   "source": [
    "obj.show()"
   ]
  },
  {
   "cell_type": "code",
   "execution_count": null,
   "id": "50a46ad3-2799-4674-a059-5465c921de0e",
   "metadata": {},
   "outputs": [],
   "source": []
  }
 ],
 "metadata": {
  "kernelspec": {
   "display_name": "Python 3 (ipykernel)",
   "language": "python",
   "name": "python3"
  },
  "language_info": {
   "codemirror_mode": {
    "name": "ipython",
    "version": 3
   },
   "file_extension": ".py",
   "mimetype": "text/x-python",
   "name": "python",
   "nbconvert_exporter": "python",
   "pygments_lexer": "ipython3",
   "version": "3.10.6"
  }
 },
 "nbformat": 4,
 "nbformat_minor": 5
}
