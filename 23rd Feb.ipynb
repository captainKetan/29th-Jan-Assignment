{
 "cells": [
  {
   "cell_type": "markdown",
   "id": "4e228dff-8047-4f23-b73f-a57e38ceb219",
   "metadata": {},
   "source": [
    "# Answer 1"
   ]
  },
  {
   "cell_type": "code",
   "execution_count": 4,
   "id": "8c39346b-b345-48bc-bf69-8c6d8f4b8c88",
   "metadata": {},
   "outputs": [
    {
     "name": "stdout",
     "output_type": "stream",
     "text": [
      "0     4\n",
      "1     8\n",
      "2    15\n",
      "3    16\n",
      "4    23\n",
      "5    42\n",
      "dtype: int64\n"
     ]
    }
   ],
   "source": [
    "import pandas as pd\n",
    "data=pd.Series([4,8,15,16,23,42])\n",
    "print(data)"
   ]
  },
  {
   "cell_type": "code",
   "execution_count": null,
   "id": "1a150c29-cdf6-46b0-8a17-d8153783bc16",
   "metadata": {},
   "outputs": [],
   "source": []
  },
  {
   "cell_type": "markdown",
   "id": "ba677235-eded-410f-849b-6d22cedeaa94",
   "metadata": {},
   "source": [
    "# Answer 2"
   ]
  },
  {
   "cell_type": "code",
   "execution_count": 5,
   "id": "644e2efe-40ba-4fdd-99b2-fe91271c623f",
   "metadata": {},
   "outputs": [
    {
     "name": "stdout",
     "output_type": "stream",
     "text": [
      "0        1\n",
      "1        2\n",
      "2     True\n",
      "3     None\n",
      "4    hello\n",
      "5     5.89\n",
      "dtype: object\n"
     ]
    }
   ],
   "source": [
    "l1=[1,2,True,None,'hello',5.89]\n",
    "data=pd.Series(l1)\n",
    "print(data)"
   ]
  },
  {
   "cell_type": "code",
   "execution_count": null,
   "id": "8fa45bfc-78f6-480b-8258-38d645035c7e",
   "metadata": {},
   "outputs": [],
   "source": []
  },
  {
   "cell_type": "markdown",
   "id": "b31b3b9a-2c7c-439a-b580-b8af65d4e4c3",
   "metadata": {},
   "source": [
    "# Answer 3"
   ]
  },
  {
   "cell_type": "code",
   "execution_count": 10,
   "id": "ae30d19d-3472-433a-9cc8-1cf61df70313",
   "metadata": {},
   "outputs": [
    {
     "name": "stdout",
     "output_type": "stream",
     "text": [
      "     Name  Age  Gender\n",
      "0   Alice   25  Female\n",
      "1     Bob   30    Male\n",
      "2  Claire   27  Female\n"
     ]
    }
   ],
   "source": [
    "data=pd.DataFrame({\n",
    "    'Name':['Alice','Bob','Claire'],\n",
    "    'Age':[25,30,27],\n",
    "    'Gender':['Female','Male','Female'],\n",
    "})\n",
    "print(data)"
   ]
  },
  {
   "cell_type": "code",
   "execution_count": null,
   "id": "96a11c06-ff33-4cad-8550-9408ab9b8fe6",
   "metadata": {},
   "outputs": [],
   "source": []
  },
  {
   "cell_type": "markdown",
   "id": "ed22ec5d-edad-4094-a79e-a69aad9eaf10",
   "metadata": {},
   "source": [
    "# Answer 4"
   ]
  },
  {
   "cell_type": "markdown",
   "id": "413c90b4-aadd-4a9c-b68c-e5cdd7e81e05",
   "metadata": {},
   "source": [
    "In pandas, a DataFrame is a two-dimensional, size-mutable, and highly flexible data structure used to store and manipulate tabular data. It is one of the core data structures provided by the pandas library and is often used for data analysis and manipulation. You can think of a DataFrame as a table or spreadsheet with rows and columns, where each column can hold data of a different data type, such as integers, floats, strings, or even more complex objects.\n",
    "\n",
    "Here are some key characteristics of a DataFrame:\n",
    "\n",
    "1. **Tabular Structure**: A DataFrame is a two-dimensional structure with rows and columns. Each column can have a different data type.\n",
    "\n",
    "2. **Size-Mutable**: You can add or remove rows and columns from a DataFrame, making it flexible for data manipulation.\n",
    "\n",
    "3. **Labeled Axes**: Both rows and columns in a DataFrame are labeled with index labels and column names, respectively. This allows for easy and efficient data selection and alignment.\n",
    "\n",
    "4. **Heterogeneous Data**: Unlike NumPy arrays, which store homogeneous data types, a DataFrame can store heterogeneous data types in its columns.\n",
    "\n",
    "Now, let's compare a DataFrame to a pandas Series:\n",
    "\n",
    "A pandas Series is a one-dimensional array-like object that can hold data of any type, similar to a column in a DataFrame. However, the main difference between a Series and a DataFrame is that a Series has a single index, while a DataFrame has both row and column indices."
   ]
  },
  {
   "cell_type": "code",
   "execution_count": 1,
   "id": "be5dcc7f-090b-40ce-b49c-2ece0008dfdf",
   "metadata": {},
   "outputs": [
    {
     "name": "stdout",
     "output_type": "stream",
     "text": [
      "Series:\n",
      "A    1\n",
      "B    2\n",
      "C    3\n",
      "D    4\n",
      "dtype: int64\n",
      "\n",
      "DataFrame:\n",
      "   Column1 Column2\n",
      "A        1       a\n",
      "B        2       b\n",
      "C        3       c\n",
      "D        4       d\n"
     ]
    }
   ],
   "source": [
    "import pandas as pd\n",
    "\n",
    "# Creating a Series\n",
    "series_data = pd.Series([1, 2, 3, 4], index=['A', 'B', 'C', 'D'])\n",
    "\n",
    "# Creating a DataFrame\n",
    "data = {'Column1': [1, 2, 3, 4], 'Column2': ['a', 'b', 'c', 'd']}\n",
    "df = pd.DataFrame(data, index=['A', 'B', 'C', 'D'])\n",
    "\n",
    "print(\"Series:\")\n",
    "print(series_data)\n",
    "print(\"\\nDataFrame:\")\n",
    "print(df)"
   ]
  },
  {
   "cell_type": "code",
   "execution_count": null,
   "id": "1da5b91d-9fc9-47dc-b448-7d66455fd809",
   "metadata": {},
   "outputs": [],
   "source": []
  },
  {
   "cell_type": "markdown",
   "id": "0d948768-72e8-4f7c-9f94-661b25b3b04b",
   "metadata": {},
   "source": [
    "# Answer 5"
   ]
  },
  {
   "cell_type": "markdown",
   "id": "2638d624-055e-4c31-a5a6-33fc3a50f027",
   "metadata": {},
   "source": [
    "Pandas provides a wide range of functions to manipulate data in a DataFrame. Here are some common functions you can use:\n",
    "\n",
    "1. **Selection and Filtering**:\n",
    "   - `df['column_name']` or `df.column_name`: Access a specific column.\n",
    "   - `df.loc[rows, columns]`: Select data by label.\n",
    "   - `df.iloc[rows, columns]`: Select data by integer position.\n",
    "   - `df[df['column_name'] > value]`: Filter rows based on a condition.\n",
    "\n",
    "2. **Sorting**:\n",
    "   - `df.sort_values(by='column_name')`: Sort DataFrame by values in a column.\n",
    "   - `df.sort_index()`: Sort DataFrame by index.\n",
    "   \n",
    "3. **Aggregation and Grouping**:\n",
    "   - `df.groupby('column_name').agg({'column_name': 'function'})`: Group data by a column and perform aggregation functions (e.g., mean, sum, count) on groups.\n",
    "\n",
    "4. **Adding and Removing Columns**:\n",
    "   - `df['new_column'] = values`: Add a new column.\n",
    "   - `del df['column_name']`: Delete a column.\n",
    "\n",
    "5. **Data Cleaning and Handling Missing Values**:\n",
    "   - `df.dropna()`: Remove rows with missing values.\n",
    "   - `df.fillna(value)`: Replace missing values with a specified value.\n",
    "\n",
    "6. **Merging and Joining**:\n",
    "   - `pd.concat([df1, df2], axis=0/1)`: Concatenate DataFrames vertically (axis=0) or horizontally (axis=1).\n",
    "   - `pd.merge(df1, df2, on='key_column', how='inner/outer/left/right')`: Merge DataFrames based on a common column."
   ]
  },
  {
   "cell_type": "code",
   "execution_count": 16,
   "id": "98ea1a4e-2b10-4a60-8f57-5cafd2048214",
   "metadata": {},
   "outputs": [
    {
     "name": "stdout",
     "output_type": "stream",
     "text": [
      "    Name   Age\n",
      "3  David  35.0\n",
      "      Name   Age\n",
      "2  Charlie  22.0\n",
      "0    Alice  25.0\n",
      "1      Bob  30.0\n",
      "3    David  35.0\n",
      "4     John   NaN\n",
      "      Name   Age  Gender\n",
      "0    Alice  25.0  Female\n",
      "1      Bob  30.0    Male\n",
      "2  Charlie  22.0    Male\n",
      "3    David  35.0    Male\n",
      "4     John   NaN    Male\n",
      "         Age\n",
      "Gender      \n",
      "Female  25.0\n",
      "Male    87.0\n",
      "      Name   Age  Gender\n",
      "0    Alice  25.0  Female\n",
      "1      Bob  30.0    Male\n",
      "2  Charlie  22.0    Male\n",
      "3    David  35.0    Male\n"
     ]
    },
    {
     "name": "stderr",
     "output_type": "stream",
     "text": [
      "/tmp/ipykernel_109/2482350622.py:17: FutureWarning: The default value of numeric_only in DataFrameGroupBy.sum is deprecated. In a future version, numeric_only will default to False. Either specify numeric_only or select only columns which should be valid for the function.\n",
      "  print(df.groupby('Gender').sum())\n"
     ]
    }
   ],
   "source": [
    "# 1. Selection and filtering\n",
    "import pandas as pd\n",
    "data = {'Name': ['Alice', 'Bob', 'Charlie', 'David','John'],\n",
    "        'Age': [25, 30, 22, 35, None]}\n",
    "df = pd.DataFrame(data)\n",
    "result = df[df['Age'] > 30]\n",
    "print(result)\n",
    "\n",
    "# 2.Sorting\n",
    "print(df.sort_values(by='Age'))\n",
    "\n",
    "# 4. Adding and Removing\n",
    "df['Gender'] = ['Female', 'Male', 'Male', 'Male', 'Male']\n",
    "print(df.head())\n",
    "\n",
    "# 3. Aggregating and Grouping\n",
    "print(df.groupby('Gender').sum())\n",
    "\n",
    "# 5. Handling missing values\n",
    "print(df.dropna())"
   ]
  },
  {
   "cell_type": "code",
   "execution_count": null,
   "id": "3bed5b5d-3daa-40fe-8ebe-c67f510ec517",
   "metadata": {},
   "outputs": [],
   "source": []
  },
  {
   "cell_type": "markdown",
   "id": "0e164da1-9865-40e9-97dc-5679ec45225a",
   "metadata": {},
   "source": [
    "# Answer 6"
   ]
  },
  {
   "cell_type": "markdown",
   "id": "32286470-8b9a-4383-a1fd-7177af4cbbc4",
   "metadata": {},
   "source": [
    "In pandas, both Series and DataFrame are mutable in nature, while Panel is not. \n",
    "\n",
    "1. **Series**: A pandas Series is a one-dimensional array-like object that can hold data of any type. It is mutable, which means you can modify the values in a Series after it has been created. For example, you can change the values of individual elements in a Series by assigning new values to them.\n",
    "\n",
    "2. **DataFrame**: A pandas DataFrame is a two-dimensional tabular data structure. Like Series, DataFrames are also mutable. You can add or remove rows and columns, modify the data within the DataFrame, and perform various operations to change its contents.\n",
    "\n",
    "3. **Panel**: The Panel data structure, which used to be a part of pandas in older versions, has been deprecated and is not part of the latest versions of pandas. It has been replaced with other data structures like MultiIndex DataFrames. Panels were not as commonly used as Series and DataFrames, and they were not mutable."
   ]
  },
  {
   "cell_type": "code",
   "execution_count": null,
   "id": "c4e5d6b1-2705-42e6-a75f-990eda6b8d08",
   "metadata": {},
   "outputs": [],
   "source": []
  },
  {
   "cell_type": "markdown",
   "id": "8d181637-d1c9-4bf0-afec-1381403b74c3",
   "metadata": {},
   "source": [
    "# Answer 7"
   ]
  },
  {
   "cell_type": "code",
   "execution_count": 17,
   "id": "5c4fb9d0-405a-48bf-b2e8-6fc673db3216",
   "metadata": {},
   "outputs": [
    {
     "data": {
      "text/html": [
       "<div>\n",
       "<style scoped>\n",
       "    .dataframe tbody tr th:only-of-type {\n",
       "        vertical-align: middle;\n",
       "    }\n",
       "\n",
       "    .dataframe tbody tr th {\n",
       "        vertical-align: top;\n",
       "    }\n",
       "\n",
       "    .dataframe thead th {\n",
       "        text-align: right;\n",
       "    }\n",
       "</style>\n",
       "<table border=\"1\" class=\"dataframe\">\n",
       "  <thead>\n",
       "    <tr style=\"text-align: right;\">\n",
       "      <th></th>\n",
       "      <th>Name</th>\n",
       "      <th>Age</th>\n",
       "      <th>Score</th>\n",
       "    </tr>\n",
       "  </thead>\n",
       "  <tbody>\n",
       "    <tr>\n",
       "      <th>0</th>\n",
       "      <td>Alice</td>\n",
       "      <td>25</td>\n",
       "      <td>85</td>\n",
       "    </tr>\n",
       "    <tr>\n",
       "      <th>1</th>\n",
       "      <td>Bob</td>\n",
       "      <td>30</td>\n",
       "      <td>92</td>\n",
       "    </tr>\n",
       "    <tr>\n",
       "      <th>2</th>\n",
       "      <td>Charlie</td>\n",
       "      <td>22</td>\n",
       "      <td>78</td>\n",
       "    </tr>\n",
       "    <tr>\n",
       "      <th>3</th>\n",
       "      <td>David</td>\n",
       "      <td>35</td>\n",
       "      <td>88</td>\n",
       "    </tr>\n",
       "  </tbody>\n",
       "</table>\n",
       "</div>"
      ],
      "text/plain": [
       "      Name  Age  Score\n",
       "0    Alice   25     85\n",
       "1      Bob   30     92\n",
       "2  Charlie   22     78\n",
       "3    David   35     88"
      ]
     },
     "execution_count": 17,
     "metadata": {},
     "output_type": "execute_result"
    }
   ],
   "source": [
    "import pandas as pd\n",
    "names = pd.Series(['Alice', 'Bob', 'Charlie', 'David'])\n",
    "ages = pd.Series([25, 30, 22, 35])\n",
    "scores = pd.Series([85, 92, 78, 88])\n",
    "data = {'Name': names, 'Age': ages, 'Score': scores}\n",
    "df = pd.DataFrame(data)\n",
    "df"
   ]
  },
  {
   "cell_type": "code",
   "execution_count": null,
   "id": "587fa28f-ccf5-4024-ba8e-e0d2e8fb6431",
   "metadata": {},
   "outputs": [],
   "source": []
  }
 ],
 "metadata": {
  "kernelspec": {
   "display_name": "Python 3 (ipykernel)",
   "language": "python",
   "name": "python3"
  },
  "language_info": {
   "codemirror_mode": {
    "name": "ipython",
    "version": 3
   },
   "file_extension": ".py",
   "mimetype": "text/x-python",
   "name": "python",
   "nbconvert_exporter": "python",
   "pygments_lexer": "ipython3",
   "version": "3.10.6"
  }
 },
 "nbformat": 4,
 "nbformat_minor": 5
}
